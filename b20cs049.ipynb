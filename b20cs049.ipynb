{
  "nbformat": 4,
  "nbformat_minor": 0,
  "metadata": {
    "colab": {
      "name": "Bonus_project",
      "provenance": [],
      "collapsed_sections": []
    },
    "kernelspec": {
      "name": "python3",
      "display_name": "Python 3"
    },
    "language_info": {
      "name": "python"
    }
  },
  "cells": [
    {
      "cell_type": "code",
      "execution_count": 92,
      "metadata": {
        "id": "E90vScBzxk4c"
      },
      "outputs": [],
      "source": [
        "import numpy as np\n",
        "import pandas as pd\n",
        "from matplotlib import pyplot as plt\n",
        "from sklearn.preprocessing import LabelEncoder\n",
        "from sklearn.preprocessing import StandardScaler\n",
        "from sklearn.model_selection import train_test_split as tts\n",
        "from sklearn.metrics import r2_score as r2\n",
        "import warnings\n",
        "warnings.filterwarnings('ignore') \n",
        "import  seaborn as sns\n",
        "from datetime import date"
      ]
    },
    {
      "cell_type": "code",
      "source": [
        "flight = pd.read_csv(\"data.csv\")\n",
        "flight"
      ],
      "metadata": {
        "colab": {
          "base_uri": "https://localhost:8080/",
          "height": 424
        },
        "id": "RkG8qPrTxzKv",
        "outputId": "a6cdf1b2-cb6e-4a90-ef75-f60156bf39e8"
      },
      "execution_count": 93,
      "outputs": [
        {
          "output_type": "execute_result",
          "data": {
            "text/plain": [
              "           Airline Date_of_Journey    Source Destination  \\\n",
              "0           IndiGo      24/03/2019  Banglore   New Delhi   \n",
              "1        Air India       1/05/2019   Kolkata    Banglore   \n",
              "2      Jet Airways       9/06/2019     Delhi      Cochin   \n",
              "3           IndiGo      12/05/2019   Kolkata    Banglore   \n",
              "4           IndiGo      01/03/2019  Banglore   New Delhi   \n",
              "...            ...             ...       ...         ...   \n",
              "10678     Air Asia       9/04/2019   Kolkata    Banglore   \n",
              "10679    Air India      27/04/2019   Kolkata    Banglore   \n",
              "10680  Jet Airways      27/04/2019  Banglore       Delhi   \n",
              "10681      Vistara      01/03/2019  Banglore   New Delhi   \n",
              "10682    Air India       9/05/2019     Delhi      Cochin   \n",
              "\n",
              "                       Route Dep_Time  Arrival_Time Duration Total_Stops  \\\n",
              "0                  BLR → DEL    22:20  01:10 22 Mar   2h 50m    non-stop   \n",
              "1      CCU → IXR → BBI → BLR    05:50         13:15   7h 25m     2 stops   \n",
              "2      DEL → LKO → BOM → COK    09:25  04:25 10 Jun      19h     2 stops   \n",
              "3            CCU → NAG → BLR    18:05         23:30   5h 25m      1 stop   \n",
              "4            BLR → NAG → DEL    16:50         21:35   4h 45m      1 stop   \n",
              "...                      ...      ...           ...      ...         ...   \n",
              "10678              CCU → BLR    19:55         22:25   2h 30m    non-stop   \n",
              "10679              CCU → BLR    20:45         23:20   2h 35m    non-stop   \n",
              "10680              BLR → DEL    08:20         11:20       3h    non-stop   \n",
              "10681              BLR → DEL    11:30         14:10   2h 40m    non-stop   \n",
              "10682  DEL → GOI → BOM → COK    10:55         19:15   8h 20m     2 stops   \n",
              "\n",
              "      Additional_Info  Price  \n",
              "0             No info   3897  \n",
              "1             No info   7662  \n",
              "2             No info  13882  \n",
              "3             No info   6218  \n",
              "4             No info  13302  \n",
              "...               ...    ...  \n",
              "10678         No info   4107  \n",
              "10679         No info   4145  \n",
              "10680         No info   7229  \n",
              "10681         No info  12648  \n",
              "10682         No info  11753  \n",
              "\n",
              "[10683 rows x 11 columns]"
            ],
            "text/html": [
              "\n",
              "  <div id=\"df-676d9fcf-1449-4a0e-9bef-996826b4e703\">\n",
              "    <div class=\"colab-df-container\">\n",
              "      <div>\n",
              "<style scoped>\n",
              "    .dataframe tbody tr th:only-of-type {\n",
              "        vertical-align: middle;\n",
              "    }\n",
              "\n",
              "    .dataframe tbody tr th {\n",
              "        vertical-align: top;\n",
              "    }\n",
              "\n",
              "    .dataframe thead th {\n",
              "        text-align: right;\n",
              "    }\n",
              "</style>\n",
              "<table border=\"1\" class=\"dataframe\">\n",
              "  <thead>\n",
              "    <tr style=\"text-align: right;\">\n",
              "      <th></th>\n",
              "      <th>Airline</th>\n",
              "      <th>Date_of_Journey</th>\n",
              "      <th>Source</th>\n",
              "      <th>Destination</th>\n",
              "      <th>Route</th>\n",
              "      <th>Dep_Time</th>\n",
              "      <th>Arrival_Time</th>\n",
              "      <th>Duration</th>\n",
              "      <th>Total_Stops</th>\n",
              "      <th>Additional_Info</th>\n",
              "      <th>Price</th>\n",
              "    </tr>\n",
              "  </thead>\n",
              "  <tbody>\n",
              "    <tr>\n",
              "      <th>0</th>\n",
              "      <td>IndiGo</td>\n",
              "      <td>24/03/2019</td>\n",
              "      <td>Banglore</td>\n",
              "      <td>New Delhi</td>\n",
              "      <td>BLR → DEL</td>\n",
              "      <td>22:20</td>\n",
              "      <td>01:10 22 Mar</td>\n",
              "      <td>2h 50m</td>\n",
              "      <td>non-stop</td>\n",
              "      <td>No info</td>\n",
              "      <td>3897</td>\n",
              "    </tr>\n",
              "    <tr>\n",
              "      <th>1</th>\n",
              "      <td>Air India</td>\n",
              "      <td>1/05/2019</td>\n",
              "      <td>Kolkata</td>\n",
              "      <td>Banglore</td>\n",
              "      <td>CCU → IXR → BBI → BLR</td>\n",
              "      <td>05:50</td>\n",
              "      <td>13:15</td>\n",
              "      <td>7h 25m</td>\n",
              "      <td>2 stops</td>\n",
              "      <td>No info</td>\n",
              "      <td>7662</td>\n",
              "    </tr>\n",
              "    <tr>\n",
              "      <th>2</th>\n",
              "      <td>Jet Airways</td>\n",
              "      <td>9/06/2019</td>\n",
              "      <td>Delhi</td>\n",
              "      <td>Cochin</td>\n",
              "      <td>DEL → LKO → BOM → COK</td>\n",
              "      <td>09:25</td>\n",
              "      <td>04:25 10 Jun</td>\n",
              "      <td>19h</td>\n",
              "      <td>2 stops</td>\n",
              "      <td>No info</td>\n",
              "      <td>13882</td>\n",
              "    </tr>\n",
              "    <tr>\n",
              "      <th>3</th>\n",
              "      <td>IndiGo</td>\n",
              "      <td>12/05/2019</td>\n",
              "      <td>Kolkata</td>\n",
              "      <td>Banglore</td>\n",
              "      <td>CCU → NAG → BLR</td>\n",
              "      <td>18:05</td>\n",
              "      <td>23:30</td>\n",
              "      <td>5h 25m</td>\n",
              "      <td>1 stop</td>\n",
              "      <td>No info</td>\n",
              "      <td>6218</td>\n",
              "    </tr>\n",
              "    <tr>\n",
              "      <th>4</th>\n",
              "      <td>IndiGo</td>\n",
              "      <td>01/03/2019</td>\n",
              "      <td>Banglore</td>\n",
              "      <td>New Delhi</td>\n",
              "      <td>BLR → NAG → DEL</td>\n",
              "      <td>16:50</td>\n",
              "      <td>21:35</td>\n",
              "      <td>4h 45m</td>\n",
              "      <td>1 stop</td>\n",
              "      <td>No info</td>\n",
              "      <td>13302</td>\n",
              "    </tr>\n",
              "    <tr>\n",
              "      <th>...</th>\n",
              "      <td>...</td>\n",
              "      <td>...</td>\n",
              "      <td>...</td>\n",
              "      <td>...</td>\n",
              "      <td>...</td>\n",
              "      <td>...</td>\n",
              "      <td>...</td>\n",
              "      <td>...</td>\n",
              "      <td>...</td>\n",
              "      <td>...</td>\n",
              "      <td>...</td>\n",
              "    </tr>\n",
              "    <tr>\n",
              "      <th>10678</th>\n",
              "      <td>Air Asia</td>\n",
              "      <td>9/04/2019</td>\n",
              "      <td>Kolkata</td>\n",
              "      <td>Banglore</td>\n",
              "      <td>CCU → BLR</td>\n",
              "      <td>19:55</td>\n",
              "      <td>22:25</td>\n",
              "      <td>2h 30m</td>\n",
              "      <td>non-stop</td>\n",
              "      <td>No info</td>\n",
              "      <td>4107</td>\n",
              "    </tr>\n",
              "    <tr>\n",
              "      <th>10679</th>\n",
              "      <td>Air India</td>\n",
              "      <td>27/04/2019</td>\n",
              "      <td>Kolkata</td>\n",
              "      <td>Banglore</td>\n",
              "      <td>CCU → BLR</td>\n",
              "      <td>20:45</td>\n",
              "      <td>23:20</td>\n",
              "      <td>2h 35m</td>\n",
              "      <td>non-stop</td>\n",
              "      <td>No info</td>\n",
              "      <td>4145</td>\n",
              "    </tr>\n",
              "    <tr>\n",
              "      <th>10680</th>\n",
              "      <td>Jet Airways</td>\n",
              "      <td>27/04/2019</td>\n",
              "      <td>Banglore</td>\n",
              "      <td>Delhi</td>\n",
              "      <td>BLR → DEL</td>\n",
              "      <td>08:20</td>\n",
              "      <td>11:20</td>\n",
              "      <td>3h</td>\n",
              "      <td>non-stop</td>\n",
              "      <td>No info</td>\n",
              "      <td>7229</td>\n",
              "    </tr>\n",
              "    <tr>\n",
              "      <th>10681</th>\n",
              "      <td>Vistara</td>\n",
              "      <td>01/03/2019</td>\n",
              "      <td>Banglore</td>\n",
              "      <td>New Delhi</td>\n",
              "      <td>BLR → DEL</td>\n",
              "      <td>11:30</td>\n",
              "      <td>14:10</td>\n",
              "      <td>2h 40m</td>\n",
              "      <td>non-stop</td>\n",
              "      <td>No info</td>\n",
              "      <td>12648</td>\n",
              "    </tr>\n",
              "    <tr>\n",
              "      <th>10682</th>\n",
              "      <td>Air India</td>\n",
              "      <td>9/05/2019</td>\n",
              "      <td>Delhi</td>\n",
              "      <td>Cochin</td>\n",
              "      <td>DEL → GOI → BOM → COK</td>\n",
              "      <td>10:55</td>\n",
              "      <td>19:15</td>\n",
              "      <td>8h 20m</td>\n",
              "      <td>2 stops</td>\n",
              "      <td>No info</td>\n",
              "      <td>11753</td>\n",
              "    </tr>\n",
              "  </tbody>\n",
              "</table>\n",
              "<p>10683 rows × 11 columns</p>\n",
              "</div>\n",
              "      <button class=\"colab-df-convert\" onclick=\"convertToInteractive('df-676d9fcf-1449-4a0e-9bef-996826b4e703')\"\n",
              "              title=\"Convert this dataframe to an interactive table.\"\n",
              "              style=\"display:none;\">\n",
              "        \n",
              "  <svg xmlns=\"http://www.w3.org/2000/svg\" height=\"24px\"viewBox=\"0 0 24 24\"\n",
              "       width=\"24px\">\n",
              "    <path d=\"M0 0h24v24H0V0z\" fill=\"none\"/>\n",
              "    <path d=\"M18.56 5.44l.94 2.06.94-2.06 2.06-.94-2.06-.94-.94-2.06-.94 2.06-2.06.94zm-11 1L8.5 8.5l.94-2.06 2.06-.94-2.06-.94L8.5 2.5l-.94 2.06-2.06.94zm10 10l.94 2.06.94-2.06 2.06-.94-2.06-.94-.94-2.06-.94 2.06-2.06.94z\"/><path d=\"M17.41 7.96l-1.37-1.37c-.4-.4-.92-.59-1.43-.59-.52 0-1.04.2-1.43.59L10.3 9.45l-7.72 7.72c-.78.78-.78 2.05 0 2.83L4 21.41c.39.39.9.59 1.41.59.51 0 1.02-.2 1.41-.59l7.78-7.78 2.81-2.81c.8-.78.8-2.07 0-2.86zM5.41 20L4 18.59l7.72-7.72 1.47 1.35L5.41 20z\"/>\n",
              "  </svg>\n",
              "      </button>\n",
              "      \n",
              "  <style>\n",
              "    .colab-df-container {\n",
              "      display:flex;\n",
              "      flex-wrap:wrap;\n",
              "      gap: 12px;\n",
              "    }\n",
              "\n",
              "    .colab-df-convert {\n",
              "      background-color: #E8F0FE;\n",
              "      border: none;\n",
              "      border-radius: 50%;\n",
              "      cursor: pointer;\n",
              "      display: none;\n",
              "      fill: #1967D2;\n",
              "      height: 32px;\n",
              "      padding: 0 0 0 0;\n",
              "      width: 32px;\n",
              "    }\n",
              "\n",
              "    .colab-df-convert:hover {\n",
              "      background-color: #E2EBFA;\n",
              "      box-shadow: 0px 1px 2px rgba(60, 64, 67, 0.3), 0px 1px 3px 1px rgba(60, 64, 67, 0.15);\n",
              "      fill: #174EA6;\n",
              "    }\n",
              "\n",
              "    [theme=dark] .colab-df-convert {\n",
              "      background-color: #3B4455;\n",
              "      fill: #D2E3FC;\n",
              "    }\n",
              "\n",
              "    [theme=dark] .colab-df-convert:hover {\n",
              "      background-color: #434B5C;\n",
              "      box-shadow: 0px 1px 3px 1px rgba(0, 0, 0, 0.15);\n",
              "      filter: drop-shadow(0px 1px 2px rgba(0, 0, 0, 0.3));\n",
              "      fill: #FFFFFF;\n",
              "    }\n",
              "  </style>\n",
              "\n",
              "      <script>\n",
              "        const buttonEl =\n",
              "          document.querySelector('#df-676d9fcf-1449-4a0e-9bef-996826b4e703 button.colab-df-convert');\n",
              "        buttonEl.style.display =\n",
              "          google.colab.kernel.accessAllowed ? 'block' : 'none';\n",
              "\n",
              "        async function convertToInteractive(key) {\n",
              "          const element = document.querySelector('#df-676d9fcf-1449-4a0e-9bef-996826b4e703');\n",
              "          const dataTable =\n",
              "            await google.colab.kernel.invokeFunction('convertToInteractive',\n",
              "                                                     [key], {});\n",
              "          if (!dataTable) return;\n",
              "\n",
              "          const docLinkHtml = 'Like what you see? Visit the ' +\n",
              "            '<a target=\"_blank\" href=https://colab.research.google.com/notebooks/data_table.ipynb>data table notebook</a>'\n",
              "            + ' to learn more about interactive tables.';\n",
              "          element.innerHTML = '';\n",
              "          dataTable['output_type'] = 'display_data';\n",
              "          await google.colab.output.renderOutput(dataTable, element);\n",
              "          const docLink = document.createElement('div');\n",
              "          docLink.innerHTML = docLinkHtml;\n",
              "          element.appendChild(docLink);\n",
              "        }\n",
              "      </script>\n",
              "    </div>\n",
              "  </div>\n",
              "  "
            ]
          },
          "metadata": {},
          "execution_count": 93
        }
      ]
    },
    {
      "cell_type": "markdown",
      "source": [
        "#Preprocessing and Visualization"
      ],
      "metadata": {
        "id": "fPHuVvpn3RsY"
      }
    },
    {
      "cell_type": "markdown",
      "source": [
        "##Dropping NA and Duplicate values"
      ],
      "metadata": {
        "id": "H3AxFXRsQ-fa"
      }
    },
    {
      "cell_type": "code",
      "source": [
        "flight.info()"
      ],
      "metadata": {
        "colab": {
          "base_uri": "https://localhost:8080/",
          "height": 0
        },
        "id": "Rdw2Ziso3VZL",
        "outputId": "5ea27250-1360-4fdc-de5a-9db23c89e418"
      },
      "execution_count": 94,
      "outputs": [
        {
          "output_type": "stream",
          "name": "stdout",
          "text": [
            "<class 'pandas.core.frame.DataFrame'>\n",
            "RangeIndex: 10683 entries, 0 to 10682\n",
            "Data columns (total 11 columns):\n",
            " #   Column           Non-Null Count  Dtype \n",
            "---  ------           --------------  ----- \n",
            " 0   Airline          10683 non-null  object\n",
            " 1   Date_of_Journey  10683 non-null  object\n",
            " 2   Source           10683 non-null  object\n",
            " 3   Destination      10683 non-null  object\n",
            " 4   Route            10682 non-null  object\n",
            " 5   Dep_Time         10683 non-null  object\n",
            " 6   Arrival_Time     10683 non-null  object\n",
            " 7   Duration         10683 non-null  object\n",
            " 8   Total_Stops      10682 non-null  object\n",
            " 9   Additional_Info  10683 non-null  object\n",
            " 10  Price            10683 non-null  int64 \n",
            "dtypes: int64(1), object(10)\n",
            "memory usage: 918.2+ KB\n"
          ]
        }
      ]
    },
    {
      "cell_type": "markdown",
      "source": [
        "Dropping the NA values"
      ],
      "metadata": {
        "id": "NG_g9SBalWRZ"
      }
    },
    {
      "cell_type": "code",
      "source": [
        "flight.isna().sum()"
      ],
      "metadata": {
        "colab": {
          "base_uri": "https://localhost:8080/",
          "height": 0
        },
        "id": "MOxsbsFGQydN",
        "outputId": "48cb825d-4ac0-461b-96b6-21c6ebec1b14"
      },
      "execution_count": 95,
      "outputs": [
        {
          "output_type": "execute_result",
          "data": {
            "text/plain": [
              "Airline            0\n",
              "Date_of_Journey    0\n",
              "Source             0\n",
              "Destination        0\n",
              "Route              1\n",
              "Dep_Time           0\n",
              "Arrival_Time       0\n",
              "Duration           0\n",
              "Total_Stops        1\n",
              "Additional_Info    0\n",
              "Price              0\n",
              "dtype: int64"
            ]
          },
          "metadata": {},
          "execution_count": 95
        }
      ]
    },
    {
      "cell_type": "markdown",
      "source": [
        "Dropping the Duplicate values"
      ],
      "metadata": {
        "id": "v97udKFzlaFs"
      }
    },
    {
      "cell_type": "code",
      "source": [
        "flight.duplicated().sum()"
      ],
      "metadata": {
        "colab": {
          "base_uri": "https://localhost:8080/",
          "height": 0
        },
        "id": "AhvHLDQbRCbg",
        "outputId": "b0bb38c3-9935-4e30-e64a-c60d298409c4"
      },
      "execution_count": 96,
      "outputs": [
        {
          "output_type": "execute_result",
          "data": {
            "text/plain": [
              "220"
            ]
          },
          "metadata": {},
          "execution_count": 96
        }
      ]
    },
    {
      "cell_type": "code",
      "source": [
        "flight = flight.drop_duplicates()"
      ],
      "metadata": {
        "id": "zfUzb3PAREiJ"
      },
      "execution_count": 97,
      "outputs": []
    },
    {
      "cell_type": "code",
      "source": [
        "flight = flight.dropna()"
      ],
      "metadata": {
        "id": "r7r1m6EE31vK"
      },
      "execution_count": 98,
      "outputs": []
    },
    {
      "cell_type": "markdown",
      "source": [
        "##Visualization and Encoding"
      ],
      "metadata": {
        "id": "qM8jFQn7V8t-"
      }
    },
    {
      "cell_type": "code",
      "source": [
        "plt.figure(figsize = (10,5))\n",
        "sns.countplot(x='Airline' , data = flight).set_xticklabels(labels = (flight['Airline'].unique()).tolist() , rotation = 90)\n",
        "plt.show()"
      ],
      "metadata": {
        "colab": {
          "base_uri": "https://localhost:8080/",
          "height": 501
        },
        "id": "AACO09R8WFMP",
        "outputId": "5279236c-72d7-45da-e236-795f9cf18652"
      },
      "execution_count": 99,
      "outputs": [
        {
          "output_type": "display_data",
          "data": {
            "text/plain": [
              "<Figure size 720x360 with 1 Axes>"
            ],
            "image/png": "[encoded data removed]"
          },
          "metadata": {
            "needs_background": "light"
          }
        }
      ]
    },
    {
      "cell_type": "markdown",
      "source": [
        "As evident in the graph , the last four values are very less in number so I have encoded them into a single\n",
        "value . This helped in increasing the performance of all the models significantly . The same process was followed for the columns\n",
        "“Total_stops” and “Additional_info” "
      ],
      "metadata": {
        "id": "hOqTc_UxvHR7"
      }
    },
    {
      "cell_type": "code",
      "source": [
        "flight['Airline'] = flight['Airline'].replace(['IndiGo' , 'Air India' , 'Jet Airways' , 'SpiceJet' , 'Multiple carriers' , 'GoAir' , 'Vistara' , 'Air Asia' , 'Vistara Premium economy' , 'Jet Airways Business' , 'Multiple carriers Premium economy' , 'Trujet'] , [1,2,3,4 ,5,6,7,8,6,6,6,6])\n",
        "flight['Airline'] = flight['Airline'].astype(int)"
      ],
      "metadata": {
        "id": "SZ9yr_ktX3dr"
      },
      "execution_count": 100,
      "outputs": []
    },
    {
      "cell_type": "code",
      "source": [
        "plt.figure(figsize = (10,5))\n",
        "sns.countplot(x='Source' , data = flight).set_xticklabels(labels = (flight['Source'].unique()).tolist() , rotation = 90)\n",
        "plt.show()"
      ],
      "metadata": {
        "colab": {
          "base_uri": "https://localhost:8080/",
          "height": 368
        },
        "id": "8VskIdPNd9pu",
        "outputId": "f2c87c8b-e100-46bb-a7cd-37fc37650377"
      },
      "execution_count": 101,
      "outputs": [
        {
          "output_type": "display_data",
          "data": {
            "text/plain": [
              "<Figure size 720x360 with 1 Axes>"
            ],
            "image/png": "[encoded data removed]"
          },
          "metadata": {
            "needs_background": "light"
          }
        }
      ]
    },
    {
      "cell_type": "code",
      "source": [
        "plt.figure(figsize = (10,5))\n",
        "sns.countplot(x='Destination' , data = flight).set_xticklabels(labels = (flight['Destination'].unique()).tolist() , rotation = 90)\n",
        "plt.show()"
      ],
      "metadata": {
        "colab": {
          "base_uri": "https://localhost:8080/",
          "height": 379
        },
        "id": "Ql76NY1mfUdq",
        "outputId": "e65d9ce5-f295-4f7c-aa67-1e9e0bdfa91d"
      },
      "execution_count": 102,
      "outputs": [
        {
          "output_type": "display_data",
          "data": {
            "text/plain": [
              "<Figure size 720x360 with 1 Axes>"
            ],
            "image/png": "[encoded data removed]"
          },
          "metadata": {
            "needs_background": "light"
          }
        }
      ]
    },
    {
      "cell_type": "code",
      "source": [
        "plt.figure(figsize = (10,5))\n",
        "sns.countplot(x='Total_Stops' , data = flight).set_xticklabels(labels = (flight['Total_Stops'].unique()).tolist() , rotation = 90)\n",
        "plt.show()"
      ],
      "metadata": {
        "colab": {
          "base_uri": "https://localhost:8080/",
          "height": 368
        },
        "id": "LU5tf_Hjfaqd",
        "outputId": "c3fbd59e-a853-4259-e459-a13c7aadf046"
      },
      "execution_count": 103,
      "outputs": [
        {
          "output_type": "display_data",
          "data": {
            "text/plain": [
              "<Figure size 720x360 with 1 Axes>"
            ],
            "image/png": "[encoded data removed]"
          },
          "metadata": {
            "needs_background": "light"
          }
        }
      ]
    },
    {
      "cell_type": "code",
      "source": [
        "flight['Total_Stops'] = flight['Total_Stops'].replace(['non-stop' , '1 stop' , '2 stops' , '3 stops' , '4 stops'] , [0,1,2,3,3])\n",
        "flight['Total_Stops'] = flight['Total_Stops'].astype(int)"
      ],
      "metadata": {
        "id": "gaBwlu7ldlBQ"
      },
      "execution_count": 104,
      "outputs": []
    },
    {
      "cell_type": "code",
      "source": [
        "plt.figure(figsize = (10,5))\n",
        "sns.countplot(x='Additional_Info' , data = flight).set_xticklabels(labels = (flight['Additional_Info'].unique()).tolist() , rotation = 90)\n",
        "plt.show()"
      ],
      "metadata": {
        "colab": {
          "base_uri": "https://localhost:8080/",
          "height": 476
        },
        "id": "hon6MT74tqgG",
        "outputId": "9da65b4f-b341-4c8f-c59c-dc3eca17809a"
      },
      "execution_count": 105,
      "outputs": [
        {
          "output_type": "display_data",
          "data": {
            "text/plain": [
              "<Figure size 720x360 with 1 Axes>"
            ],
            "image/png": "[encoded data removed]"
          },
          "metadata": {
            "needs_background": "light"
          }
        }
      ]
    },
    {
      "cell_type": "code",
      "source": [
        "flight['Additional_Info'] = flight['Additional_Info'].replace(['No info', 'No Info' , 'In-flight meal not included' , 'No check-in baggage included' , '1 Short layover' , '1 Long layover' ,'Change airports' , 'Business class' ,  'Red-eye flight','2 Long layover'  ] , [0,0,1,2,3,3,3,3,3,3])\n",
        "flight['Additional_Info'] = flight['Additional_Info'].astype(int)"
      ],
      "metadata": {
        "id": "M51qXF8qvPXC"
      },
      "execution_count": 106,
      "outputs": []
    },
    {
      "cell_type": "code",
      "source": [
        "np.unique(flight['Date_of_Journey'])"
      ],
      "metadata": {
        "colab": {
          "base_uri": "https://localhost:8080/",
          "height": 0
        },
        "id": "4-XTpgP6OM5a",
        "outputId": "2cff7a95-2cb3-4f4b-a4f6-cbbf98da834d"
      },
      "execution_count": 107,
      "outputs": [
        {
          "output_type": "execute_result",
          "data": {
            "text/plain": [
              "array(['01/03/2019', '03/03/2019', '06/03/2019', '09/03/2019',\n",
              "       '1/03/2019', '1/04/2019', '1/05/2019', '1/06/2019', '12/03/2019',\n",
              "       '12/04/2019', '12/05/2019', '12/06/2019', '15/03/2019',\n",
              "       '15/04/2019', '15/05/2019', '15/06/2019', '18/03/2019',\n",
              "       '18/04/2019', '18/05/2019', '18/06/2019', '21/03/2019',\n",
              "       '21/04/2019', '21/05/2019', '21/06/2019', '24/03/2019',\n",
              "       '24/04/2019', '24/05/2019', '24/06/2019', '27/03/2019',\n",
              "       '27/04/2019', '27/05/2019', '27/06/2019', '3/03/2019', '3/04/2019',\n",
              "       '3/05/2019', '3/06/2019', '6/03/2019', '6/04/2019', '6/05/2019',\n",
              "       '6/06/2019', '9/03/2019', '9/04/2019', '9/05/2019', '9/06/2019'],\n",
              "      dtype=object)"
            ]
          },
          "metadata": {},
          "execution_count": 107
        }
      ]
    },
    {
      "cell_type": "markdown",
      "source": [
        "##Preprocessing of the column : Date of Journey \n",
        "\n"
      ],
      "metadata": {
        "id": "5nUo6euEPRFW"
      }
    },
    {
      "cell_type": "markdown",
      "source": [
        "I have separated the Date of Journey into three different columns : year , month and Date . But the year column only has one value i.e. 2019 so I dropped that column ."
      ],
      "metadata": {
        "id": "Y2E_gWoH5TWa"
      }
    },
    {
      "cell_type": "markdown",
      "source": [
        " Morever I created a new column called Day which contains the information of the day for the corresponding date . This is because the flight prices are usually higher on the weekends so it will good for the training the model . 1 stands for Monday , 2 stands for Tuesday and so on ...."
      ],
      "metadata": {
        "id": "Ip6lj333SE97"
      }
    },
    {
      "cell_type": "code",
      "source": [
        "s = '01/03/2019'\n",
        "a = s.split(\"/\")\n",
        "d  =int(a[0])\n",
        "m = int(a[1])\n",
        "y = int(a[2])\n",
        "date(y , m , d).weekday()"
      ],
      "metadata": {
        "id": "KYR6LAcv3sn9",
        "colab": {
          "base_uri": "https://localhost:8080/",
          "height": 0
        },
        "outputId": "753e51f3-91ec-4190-a132-b2e4592793bd"
      },
      "execution_count": 108,
      "outputs": [
        {
          "output_type": "execute_result",
          "data": {
            "text/plain": [
              "4"
            ]
          },
          "metadata": {},
          "execution_count": 108
        }
      ]
    },
    {
      "cell_type": "code",
      "source": [
        "day = []\n",
        "for DATE in flight['Date_of_Journey']:\n",
        "  a = DATE.split(\"/\")\n",
        "  d  =int(a[0])\n",
        "  m = int(a[1])\n",
        "  y = int(a[2])\n",
        "  day.append(date(y , m , d).weekday() + 1)\n",
        "flight['Day'] = day"
      ],
      "metadata": {
        "id": "SMnNgzn53xYj"
      },
      "execution_count": 109,
      "outputs": []
    },
    {
      "cell_type": "code",
      "source": [
        "print(\"Average price of Flight tickets on Sunday : \" , flight[flight['Day'] == 7]['Price'].mean())\n",
        "print(\"Average price of Flight tickets on Monday : \" , flight[flight['Day'] == 1]['Price'].mean())"
      ],
      "metadata": {
        "colab": {
          "base_uri": "https://localhost:8080/"
        },
        "id": "2fBOKvCYnx1m",
        "outputId": "50a1ffcc-3421-4fbe-ba7e-18f4123267fb"
      },
      "execution_count": 207,
      "outputs": [
        {
          "output_type": "stream",
          "name": "stdout",
          "text": [
            "Average price of Flight tickets on Sunday :  9532.548654244307\n",
            "Average price of Flight tickets on Monday :  8402.193691200886\n"
          ]
        }
      ]
    },
    {
      "cell_type": "markdown",
      "source": [
        "So creating the Weekday column was a good choice as cleary the average price of tickets is much higher on weekend than on weekdays"
      ],
      "metadata": {
        "id": "rfWJP29EoRxB"
      }
    },
    {
      "cell_type": "code",
      "source": [
        "Date = []\n",
        "month = []\n",
        "year = []\n",
        "for date in flight['Date_of_Journey']:\n",
        "  info = date.split(\"/\")\n",
        "  if(info[0][0] == '0'):\n",
        "    Date.append(int(info[0][1]))\n",
        "  else:\n",
        "    Date.append(int(info[0]))\n",
        "  month.append(int(info[1][1]))\n",
        "  year.append(int(info[2]))\n",
        "flight['Date'] = Date\n",
        "flight['Month'] = month\n",
        "flight['Year'] = year\n",
        "flight = flight.drop(columns = 'Date_of_Journey')"
      ],
      "metadata": {
        "id": "TMh8smqvOhF9"
      },
      "execution_count": 110,
      "outputs": []
    },
    {
      "cell_type": "code",
      "source": [
        "np.unique(flight['Month'])"
      ],
      "metadata": {
        "colab": {
          "base_uri": "https://localhost:8080/",
          "height": 0
        },
        "id": "G8FrpkQ8RUG0",
        "outputId": "c462494c-67b6-400c-adf0-f147755d7696"
      },
      "execution_count": 111,
      "outputs": [
        {
          "output_type": "execute_result",
          "data": {
            "text/plain": [
              "array([3, 4, 5, 6])"
            ]
          },
          "metadata": {},
          "execution_count": 111
        }
      ]
    },
    {
      "cell_type": "code",
      "source": [
        "np.unique(flight['Date'])"
      ],
      "metadata": {
        "colab": {
          "base_uri": "https://localhost:8080/",
          "height": 0
        },
        "id": "rzAufClnPyhj",
        "outputId": "5b39d61c-824c-419c-b647-8195d2836858"
      },
      "execution_count": 112,
      "outputs": [
        {
          "output_type": "execute_result",
          "data": {
            "text/plain": [
              "array([ 1,  3,  6,  9, 12, 15, 18, 21, 24, 27])"
            ]
          },
          "metadata": {},
          "execution_count": 112
        }
      ]
    },
    {
      "cell_type": "code",
      "source": [
        "np.unique(flight['Year'])"
      ],
      "metadata": {
        "colab": {
          "base_uri": "https://localhost:8080/",
          "height": 0
        },
        "id": "L9hvYobmS9I-",
        "outputId": "eefdf0d5-1b38-428c-a840-85a27e69c652"
      },
      "execution_count": 113,
      "outputs": [
        {
          "output_type": "execute_result",
          "data": {
            "text/plain": [
              "array([2019])"
            ]
          },
          "metadata": {},
          "execution_count": 113
        }
      ]
    },
    {
      "cell_type": "markdown",
      "source": [
        "Dropping the Year columns as there is only one value here"
      ],
      "metadata": {
        "id": "FyaFK5v8S_n-"
      }
    },
    {
      "cell_type": "code",
      "source": [
        "flight = flight.drop(columns = 'Year')"
      ],
      "metadata": {
        "id": "W5T_4XRvTE6v"
      },
      "execution_count": 114,
      "outputs": []
    },
    {
      "cell_type": "markdown",
      "source": [
        "##Preprocessing of the column : Departure Time\n",
        "\n",
        "\n",
        "\n"
      ],
      "metadata": {
        "id": "gEF9MK8YUzHx"
      }
    },
    {
      "cell_type": "markdown",
      "source": [
        "I have seperated the Departure Time into the hour and minutes columns so it is easier to visualize"
      ],
      "metadata": {
        "id": "QGeT09wDTB45"
      }
    },
    {
      "cell_type": "code",
      "source": [
        "dept_min = []\n",
        "dept_hour = []\n",
        "for time in flight['Dep_Time']:\n",
        "  time = time.split(\" \")[0]\n",
        "  time = time.split(\":\")\n",
        "  dept_min.append(int(time[1]))\n",
        "  dept_hour.append(int(time[0]))\n",
        "flight['Dept_Min'] = dept_min\n",
        "flight['Dept_Hour'] = dept_hour\n",
        "flight = flight.drop(columns = \"Dep_Time\")"
      ],
      "metadata": {
        "id": "9kyuUkxXTVml"
      },
      "execution_count": 115,
      "outputs": []
    },
    {
      "cell_type": "markdown",
      "source": [
        "\n",
        "##Preprocessing of the column : Arrival Time\n"
      ],
      "metadata": {
        "id": "KA36V9ClVHO2"
      }
    },
    {
      "cell_type": "markdown",
      "source": [
        "I have seperated the Arrival Time into the hour and minutes columns so it is easier to visualize"
      ],
      "metadata": {
        "id": "RfXFeF-gTMco"
      }
    },
    {
      "cell_type": "code",
      "source": [
        "arr_min = []\n",
        "arr_hour = []\n",
        "for time in flight['Arrival_Time']:\n",
        "  time = time.split(\" \")[0]\n",
        "  time = time.split(\":\")\n",
        "  arr_min.append(int(time[1]))\n",
        "  arr_hour.append(int(time[0]))\n",
        "flight['Arrival_Min'] = arr_min\n",
        "flight['Arrival_Hour'] = arr_hour\n",
        "flight = flight.drop(columns = \"Arrival_Time\")"
      ],
      "metadata": {
        "id": "TUPbZT6aVFHR"
      },
      "execution_count": 116,
      "outputs": []
    },
    {
      "cell_type": "markdown",
      "source": [
        "\n",
        "##Preprocessing of the column : Duration\n"
      ],
      "metadata": {
        "id": "SgJ14hDhV68s"
      }
    },
    {
      "cell_type": "markdown",
      "source": [
        "I converted the Duration column into Duration in minutes because some flights were less than an hour and overall the duration of flight is a really important factor in the price of the flight"
      ],
      "metadata": {
        "id": "ZO_e_lqjTYAf"
      }
    },
    {
      "cell_type": "code",
      "source": [
        "duration = []\n",
        "for dur in flight['Duration']:\n",
        "  dur = dur.split(\" \")\n",
        "  if dur[0][1] == 'm':\n",
        "    time = int(dur[0][0])\n",
        "  else:\n",
        "    hour = int(dur[0].split(\"h\")[0])\n",
        "    if len(dur) != 1 :\n",
        "      min = int(dur[1].split(\"m\")[0])\n",
        "      time = hour*60 + min\n",
        "    else:\n",
        "      time = hour  \n",
        "  duration.append(int(time))\n",
        "flight['Duration'] = duration"
      ],
      "metadata": {
        "id": "Qr9sNKtYVpvX"
      },
      "execution_count": 117,
      "outputs": []
    },
    {
      "cell_type": "markdown",
      "source": [
        "\n",
        "##Preprocessing of the column : Route\n"
      ],
      "metadata": {
        "id": "qceGqXz0R4QI"
      }
    },
    {
      "cell_type": "markdown",
      "source": [
        "The Route column is very important and it can't be ignored . There are at most 6 cities in the route column . I have seperated the route column into 4 columns with First city , Second City ..... Fourth City since the Source and Destination are already present . If the route contains only 3 cities then only the First city column is filled and the rest are filled with 'None' value . These columns will then be label encoded"
      ],
      "metadata": {
        "id": "I1f50n8RpLhp"
      }
    },
    {
      "cell_type": "code",
      "source": [
        "city1 = []\n",
        "city2 = []\n",
        "city3 = []\n",
        "city4 = []\n",
        "for i in flight['Route']:\n",
        "  arr = i.split(\" →\")\n",
        "  b = arr[1:-1]\n",
        "  if(len(b) == 0):\n",
        "    city1.append(\"None\")\n",
        "    city2.append(\"None\")\n",
        "    city3.append(\"None\")\n",
        "    city4.append(\"None\")\n",
        "  elif(len(b) == 1):\n",
        "    city1.append(b[0])\n",
        "    city2.append(\"None\")\n",
        "    city3.append(\"None\")\n",
        "    city4.append(\"None\")\n",
        "  elif(len(b) == 2):\n",
        "    city1.append(b[0])\n",
        "    city2.append(b[1])\n",
        "    city3.append(\"None\")\n",
        "    city4.append(\"None\")\n",
        "  elif(len(b) == 3):\n",
        "    city1.append(b[0])\n",
        "    city2.append(b[1])\n",
        "    city3.append(b[2])\n",
        "    city4.append(\"None\")\n",
        "  elif(len(b) == 4):\n",
        "    city1.append(b[0])\n",
        "    city2.append(b[1])\n",
        "    city3.append(b[2])\n",
        "    city4.append(b[3])\n",
        "flight['First_stop'] = city1\n",
        "flight['Second_stop'] = city2\n",
        "flight['Third_stop'] = city3\n",
        "flight['Fourth_stop'] = city4\n",
        "flight = flight.drop(columns = \"Route\")"
      ],
      "metadata": {
        "id": "cR7W90tWR9LV"
      },
      "execution_count": 118,
      "outputs": []
    },
    {
      "cell_type": "code",
      "source": [
        "flight"
      ],
      "metadata": {
        "colab": {
          "base_uri": "https://localhost:8080/",
          "height": 488
        },
        "id": "mHQ_uIGHTxUB",
        "outputId": "48059004-3b80-48f3-ba90-6bdb7b0b626c"
      },
      "execution_count": 119,
      "outputs": [
        {
          "output_type": "execute_result",
          "data": {
            "text/plain": [
              "       Airline    Source Destination  Duration  Total_Stops  Additional_Info  \\\n",
              "0            1  Banglore   New Delhi       170            0                0   \n",
              "1            2   Kolkata    Banglore       445            2                0   \n",
              "2            3     Delhi      Cochin        19            2                0   \n",
              "3            1   Kolkata    Banglore       325            1                0   \n",
              "4            1  Banglore   New Delhi       285            1                0   \n",
              "...        ...       ...         ...       ...          ...              ...   \n",
              "10678        8   Kolkata    Banglore       150            0                0   \n",
              "10679        2   Kolkata    Banglore       155            0                0   \n",
              "10680        3  Banglore       Delhi         3            0                0   \n",
              "10681        7  Banglore   New Delhi       160            0                0   \n",
              "10682        2     Delhi      Cochin       500            2                0   \n",
              "\n",
              "       Price  Day  Date  Month  Dept_Min  Dept_Hour  Arrival_Min  \\\n",
              "0       3897    7    24      3        20         22           10   \n",
              "1       7662    3     1      5        50          5           15   \n",
              "2      13882    7     9      6        25          9           25   \n",
              "3       6218    7    12      5         5         18           30   \n",
              "4      13302    5     1      3        50         16           35   \n",
              "...      ...  ...   ...    ...       ...        ...          ...   \n",
              "10678   4107    2     9      4        55         19           25   \n",
              "10679   4145    6    27      4        45         20           20   \n",
              "10680   7229    6    27      4        20          8           20   \n",
              "10681  12648    5     1      3        30         11           10   \n",
              "10682  11753    4     9      5        55         10           15   \n",
              "\n",
              "       Arrival_Hour First_stop Second_stop Third_stop Fourth_stop  \n",
              "0                 1       None        None       None        None  \n",
              "1                13        IXR         BBI       None        None  \n",
              "2                 4        LKO         BOM       None        None  \n",
              "3                23        NAG        None       None        None  \n",
              "4                21        NAG        None       None        None  \n",
              "...             ...        ...         ...        ...         ...  \n",
              "10678            22       None        None       None        None  \n",
              "10679            23       None        None       None        None  \n",
              "10680            11       None        None       None        None  \n",
              "10681            14       None        None       None        None  \n",
              "10682            19        GOI         BOM       None        None  \n",
              "\n",
              "[10462 rows x 18 columns]"
            ],
            "text/html": [
              "\n",
              "  <div id=\"df-334638ee-af71-4a89-8037-ac7eaa4eff65\">\n",
              "    <div class=\"colab-df-container\">\n",
              "      <div>\n",
              "<style scoped>\n",
              "    .dataframe tbody tr th:only-of-type {\n",
              "        vertical-align: middle;\n",
              "    }\n",
              "\n",
              "    .dataframe tbody tr th {\n",
              "        vertical-align: top;\n",
              "    }\n",
              "\n",
              "    .dataframe thead th {\n",
              "        text-align: right;\n",
              "    }\n",
              "</style>\n",
              "<table border=\"1\" class=\"dataframe\">\n",
              "  <thead>\n",
              "    <tr style=\"text-align: right;\">\n",
              "      <th></th>\n",
              "      <th>Airline</th>\n",
              "      <th>Source</th>\n",
              "      <th>Destination</th>\n",
              "      <th>Duration</th>\n",
              "      <th>Total_Stops</th>\n",
              "      <th>Additional_Info</th>\n",
              "      <th>Price</th>\n",
              "      <th>Day</th>\n",
              "      <th>Date</th>\n",
              "      <th>Month</th>\n",
              "      <th>Dept_Min</th>\n",
              "      <th>Dept_Hour</th>\n",
              "      <th>Arrival_Min</th>\n",
              "      <th>Arrival_Hour</th>\n",
              "      <th>First_stop</th>\n",
              "      <th>Second_stop</th>\n",
              "      <th>Third_stop</th>\n",
              "      <th>Fourth_stop</th>\n",
              "    </tr>\n",
              "  </thead>\n",
              "  <tbody>\n",
              "    <tr>\n",
              "      <th>0</th>\n",
              "      <td>1</td>\n",
              "      <td>Banglore</td>\n",
              "      <td>New Delhi</td>\n",
              "      <td>170</td>\n",
              "      <td>0</td>\n",
              "      <td>0</td>\n",
              "      <td>3897</td>\n",
              "      <td>7</td>\n",
              "      <td>24</td>\n",
              "      <td>3</td>\n",
              "      <td>20</td>\n",
              "      <td>22</td>\n",
              "      <td>10</td>\n",
              "      <td>1</td>\n",
              "      <td>None</td>\n",
              "      <td>None</td>\n",
              "      <td>None</td>\n",
              "      <td>None</td>\n",
              "    </tr>\n",
              "    <tr>\n",
              "      <th>1</th>\n",
              "      <td>2</td>\n",
              "      <td>Kolkata</td>\n",
              "      <td>Banglore</td>\n",
              "      <td>445</td>\n",
              "      <td>2</td>\n",
              "      <td>0</td>\n",
              "      <td>7662</td>\n",
              "      <td>3</td>\n",
              "      <td>1</td>\n",
              "      <td>5</td>\n",
              "      <td>50</td>\n",
              "      <td>5</td>\n",
              "      <td>15</td>\n",
              "      <td>13</td>\n",
              "      <td>IXR</td>\n",
              "      <td>BBI</td>\n",
              "      <td>None</td>\n",
              "      <td>None</td>\n",
              "    </tr>\n",
              "    <tr>\n",
              "      <th>2</th>\n",
              "      <td>3</td>\n",
              "      <td>Delhi</td>\n",
              "      <td>Cochin</td>\n",
              "      <td>19</td>\n",
              "      <td>2</td>\n",
              "      <td>0</td>\n",
              "      <td>13882</td>\n",
              "      <td>7</td>\n",
              "      <td>9</td>\n",
              "      <td>6</td>\n",
              "      <td>25</td>\n",
              "      <td>9</td>\n",
              "      <td>25</td>\n",
              "      <td>4</td>\n",
              "      <td>LKO</td>\n",
              "      <td>BOM</td>\n",
              "      <td>None</td>\n",
              "      <td>None</td>\n",
              "    </tr>\n",
              "    <tr>\n",
              "      <th>3</th>\n",
              "      <td>1</td>\n",
              "      <td>Kolkata</td>\n",
              "      <td>Banglore</td>\n",
              "      <td>325</td>\n",
              "      <td>1</td>\n",
              "      <td>0</td>\n",
              "      <td>6218</td>\n",
              "      <td>7</td>\n",
              "      <td>12</td>\n",
              "      <td>5</td>\n",
              "      <td>5</td>\n",
              "      <td>18</td>\n",
              "      <td>30</td>\n",
              "      <td>23</td>\n",
              "      <td>NAG</td>\n",
              "      <td>None</td>\n",
              "      <td>None</td>\n",
              "      <td>None</td>\n",
              "    </tr>\n",
              "    <tr>\n",
              "      <th>4</th>\n",
              "      <td>1</td>\n",
              "      <td>Banglore</td>\n",
              "      <td>New Delhi</td>\n",
              "      <td>285</td>\n",
              "      <td>1</td>\n",
              "      <td>0</td>\n",
              "      <td>13302</td>\n",
              "      <td>5</td>\n",
              "      <td>1</td>\n",
              "      <td>3</td>\n",
              "      <td>50</td>\n",
              "      <td>16</td>\n",
              "      <td>35</td>\n",
              "      <td>21</td>\n",
              "      <td>NAG</td>\n",
              "      <td>None</td>\n",
              "      <td>None</td>\n",
              "      <td>None</td>\n",
              "    </tr>\n",
              "    <tr>\n",
              "      <th>...</th>\n",
              "      <td>...</td>\n",
              "      <td>...</td>\n",
              "      <td>...</td>\n",
              "      <td>...</td>\n",
              "      <td>...</td>\n",
              "      <td>...</td>\n",
              "      <td>...</td>\n",
              "      <td>...</td>\n",
              "      <td>...</td>\n",
              "      <td>...</td>\n",
              "      <td>...</td>\n",
              "      <td>...</td>\n",
              "      <td>...</td>\n",
              "      <td>...</td>\n",
              "      <td>...</td>\n",
              "      <td>...</td>\n",
              "      <td>...</td>\n",
              "      <td>...</td>\n",
              "    </tr>\n",
              "    <tr>\n",
              "      <th>10678</th>\n",
              "      <td>8</td>\n",
              "      <td>Kolkata</td>\n",
              "      <td>Banglore</td>\n",
              "      <td>150</td>\n",
              "      <td>0</td>\n",
              "      <td>0</td>\n",
              "      <td>4107</td>\n",
              "      <td>2</td>\n",
              "      <td>9</td>\n",
              "      <td>4</td>\n",
              "      <td>55</td>\n",
              "      <td>19</td>\n",
              "      <td>25</td>\n",
              "      <td>22</td>\n",
              "      <td>None</td>\n",
              "      <td>None</td>\n",
              "      <td>None</td>\n",
              "      <td>None</td>\n",
              "    </tr>\n",
              "    <tr>\n",
              "      <th>10679</th>\n",
              "      <td>2</td>\n",
              "      <td>Kolkata</td>\n",
              "      <td>Banglore</td>\n",
              "      <td>155</td>\n",
              "      <td>0</td>\n",
              "      <td>0</td>\n",
              "      <td>4145</td>\n",
              "      <td>6</td>\n",
              "      <td>27</td>\n",
              "      <td>4</td>\n",
              "      <td>45</td>\n",
              "      <td>20</td>\n",
              "      <td>20</td>\n",
              "      <td>23</td>\n",
              "      <td>None</td>\n",
              "      <td>None</td>\n",
              "      <td>None</td>\n",
              "      <td>None</td>\n",
              "    </tr>\n",
              "    <tr>\n",
              "      <th>10680</th>\n",
              "      <td>3</td>\n",
              "      <td>Banglore</td>\n",
              "      <td>Delhi</td>\n",
              "      <td>3</td>\n",
              "      <td>0</td>\n",
              "      <td>0</td>\n",
              "      <td>7229</td>\n",
              "      <td>6</td>\n",
              "      <td>27</td>\n",
              "      <td>4</td>\n",
              "      <td>20</td>\n",
              "      <td>8</td>\n",
              "      <td>20</td>\n",
              "      <td>11</td>\n",
              "      <td>None</td>\n",
              "      <td>None</td>\n",
              "      <td>None</td>\n",
              "      <td>None</td>\n",
              "    </tr>\n",
              "    <tr>\n",
              "      <th>10681</th>\n",
              "      <td>7</td>\n",
              "      <td>Banglore</td>\n",
              "      <td>New Delhi</td>\n",
              "      <td>160</td>\n",
              "      <td>0</td>\n",
              "      <td>0</td>\n",
              "      <td>12648</td>\n",
              "      <td>5</td>\n",
              "      <td>1</td>\n",
              "      <td>3</td>\n",
              "      <td>30</td>\n",
              "      <td>11</td>\n",
              "      <td>10</td>\n",
              "      <td>14</td>\n",
              "      <td>None</td>\n",
              "      <td>None</td>\n",
              "      <td>None</td>\n",
              "      <td>None</td>\n",
              "    </tr>\n",
              "    <tr>\n",
              "      <th>10682</th>\n",
              "      <td>2</td>\n",
              "      <td>Delhi</td>\n",
              "      <td>Cochin</td>\n",
              "      <td>500</td>\n",
              "      <td>2</td>\n",
              "      <td>0</td>\n",
              "      <td>11753</td>\n",
              "      <td>4</td>\n",
              "      <td>9</td>\n",
              "      <td>5</td>\n",
              "      <td>55</td>\n",
              "      <td>10</td>\n",
              "      <td>15</td>\n",
              "      <td>19</td>\n",
              "      <td>GOI</td>\n",
              "      <td>BOM</td>\n",
              "      <td>None</td>\n",
              "      <td>None</td>\n",
              "    </tr>\n",
              "  </tbody>\n",
              "</table>\n",
              "<p>10462 rows × 18 columns</p>\n",
              "</div>\n",
              "      <button class=\"colab-df-convert\" onclick=\"convertToInteractive('df-334638ee-af71-4a89-8037-ac7eaa4eff65')\"\n",
              "              title=\"Convert this dataframe to an interactive table.\"\n",
              "              style=\"display:none;\">\n",
              "        \n",
              "  <svg xmlns=\"http://www.w3.org/2000/svg\" height=\"24px\"viewBox=\"0 0 24 24\"\n",
              "       width=\"24px\">\n",
              "    <path d=\"M0 0h24v24H0V0z\" fill=\"none\"/>\n",
              "    <path d=\"M18.56 5.44l.94 2.06.94-2.06 2.06-.94-2.06-.94-.94-2.06-.94 2.06-2.06.94zm-11 1L8.5 8.5l.94-2.06 2.06-.94-2.06-.94L8.5 2.5l-.94 2.06-2.06.94zm10 10l.94 2.06.94-2.06 2.06-.94-2.06-.94-.94-2.06-.94 2.06-2.06.94z\"/><path d=\"M17.41 7.96l-1.37-1.37c-.4-.4-.92-.59-1.43-.59-.52 0-1.04.2-1.43.59L10.3 9.45l-7.72 7.72c-.78.78-.78 2.05 0 2.83L4 21.41c.39.39.9.59 1.41.59.51 0 1.02-.2 1.41-.59l7.78-7.78 2.81-2.81c.8-.78.8-2.07 0-2.86zM5.41 20L4 18.59l7.72-7.72 1.47 1.35L5.41 20z\"/>\n",
              "  </svg>\n",
              "      </button>\n",
              "      \n",
              "  <style>\n",
              "    .colab-df-container {\n",
              "      display:flex;\n",
              "      flex-wrap:wrap;\n",
              "      gap: 12px;\n",
              "    }\n",
              "\n",
              "    .colab-df-convert {\n",
              "      background-color: #E8F0FE;\n",
              "      border: none;\n",
              "      border-radius: 50%;\n",
              "      cursor: pointer;\n",
              "      display: none;\n",
              "      fill: #1967D2;\n",
              "      height: 32px;\n",
              "      padding: 0 0 0 0;\n",
              "      width: 32px;\n",
              "    }\n",
              "\n",
              "    .colab-df-convert:hover {\n",
              "      background-color: #E2EBFA;\n",
              "      box-shadow: 0px 1px 2px rgba(60, 64, 67, 0.3), 0px 1px 3px 1px rgba(60, 64, 67, 0.15);\n",
              "      fill: #174EA6;\n",
              "    }\n",
              "\n",
              "    [theme=dark] .colab-df-convert {\n",
              "      background-color: #3B4455;\n",
              "      fill: #D2E3FC;\n",
              "    }\n",
              "\n",
              "    [theme=dark] .colab-df-convert:hover {\n",
              "      background-color: #434B5C;\n",
              "      box-shadow: 0px 1px 3px 1px rgba(0, 0, 0, 0.15);\n",
              "      filter: drop-shadow(0px 1px 2px rgba(0, 0, 0, 0.3));\n",
              "      fill: #FFFFFF;\n",
              "    }\n",
              "  </style>\n",
              "\n",
              "      <script>\n",
              "        const buttonEl =\n",
              "          document.querySelector('#df-334638ee-af71-4a89-8037-ac7eaa4eff65 button.colab-df-convert');\n",
              "        buttonEl.style.display =\n",
              "          google.colab.kernel.accessAllowed ? 'block' : 'none';\n",
              "\n",
              "        async function convertToInteractive(key) {\n",
              "          const element = document.querySelector('#df-334638ee-af71-4a89-8037-ac7eaa4eff65');\n",
              "          const dataTable =\n",
              "            await google.colab.kernel.invokeFunction('convertToInteractive',\n",
              "                                                     [key], {});\n",
              "          if (!dataTable) return;\n",
              "\n",
              "          const docLinkHtml = 'Like what you see? Visit the ' +\n",
              "            '<a target=\"_blank\" href=https://colab.research.google.com/notebooks/data_table.ipynb>data table notebook</a>'\n",
              "            + ' to learn more about interactive tables.';\n",
              "          element.innerHTML = '';\n",
              "          dataTable['output_type'] = 'display_data';\n",
              "          await google.colab.output.renderOutput(dataTable, element);\n",
              "          const docLink = document.createElement('div');\n",
              "          docLink.innerHTML = docLinkHtml;\n",
              "          element.appendChild(docLink);\n",
              "        }\n",
              "      </script>\n",
              "    </div>\n",
              "  </div>\n",
              "  "
            ]
          },
          "metadata": {},
          "execution_count": 119
        }
      ]
    },
    {
      "cell_type": "code",
      "source": [
        "plt.figure(figsize = (15,15))\n",
        "sns.heatmap(flight.corr(), annot = True, cmap = \"RdYlGn\")\n",
        "plt.show()"
      ],
      "metadata": {
        "colab": {
          "base_uri": "https://localhost:8080/",
          "height": 932
        },
        "id": "8AizSYcIQQZs",
        "outputId": "cc77b9f9-42e7-4f14-fc5c-8dc9b791dade"
      },
      "execution_count": 120,
      "outputs": [
        {
          "output_type": "display_data",
          "data": {
            "text/plain": [
              "<Figure size 1080x1080 with 2 Axes>"
            ],
            "image/png": "[encoded data removed]"
          },
          "metadata": {
            "needs_background": "light"
          }
        }
      ]
    },
    {
      "cell_type": "code",
      "source": [
        "flight"
      ],
      "metadata": {
        "colab": {
          "base_uri": "https://localhost:8080/",
          "height": 488
        },
        "id": "356Y-CXXUbMG",
        "outputId": "241a1526-f575-42a8-befc-2c8ac8de55dc"
      },
      "execution_count": 121,
      "outputs": [
        {
          "output_type": "execute_result",
          "data": {
            "text/plain": [
              "       Airline    Source Destination  Duration  Total_Stops  Additional_Info  \\\n",
              "0            1  Banglore   New Delhi       170            0                0   \n",
              "1            2   Kolkata    Banglore       445            2                0   \n",
              "2            3     Delhi      Cochin        19            2                0   \n",
              "3            1   Kolkata    Banglore       325            1                0   \n",
              "4            1  Banglore   New Delhi       285            1                0   \n",
              "...        ...       ...         ...       ...          ...              ...   \n",
              "10678        8   Kolkata    Banglore       150            0                0   \n",
              "10679        2   Kolkata    Banglore       155            0                0   \n",
              "10680        3  Banglore       Delhi         3            0                0   \n",
              "10681        7  Banglore   New Delhi       160            0                0   \n",
              "10682        2     Delhi      Cochin       500            2                0   \n",
              "\n",
              "       Price  Day  Date  Month  Dept_Min  Dept_Hour  Arrival_Min  \\\n",
              "0       3897    7    24      3        20         22           10   \n",
              "1       7662    3     1      5        50          5           15   \n",
              "2      13882    7     9      6        25          9           25   \n",
              "3       6218    7    12      5         5         18           30   \n",
              "4      13302    5     1      3        50         16           35   \n",
              "...      ...  ...   ...    ...       ...        ...          ...   \n",
              "10678   4107    2     9      4        55         19           25   \n",
              "10679   4145    6    27      4        45         20           20   \n",
              "10680   7229    6    27      4        20          8           20   \n",
              "10681  12648    5     1      3        30         11           10   \n",
              "10682  11753    4     9      5        55         10           15   \n",
              "\n",
              "       Arrival_Hour First_stop Second_stop Third_stop Fourth_stop  \n",
              "0                 1       None        None       None        None  \n",
              "1                13        IXR         BBI       None        None  \n",
              "2                 4        LKO         BOM       None        None  \n",
              "3                23        NAG        None       None        None  \n",
              "4                21        NAG        None       None        None  \n",
              "...             ...        ...         ...        ...         ...  \n",
              "10678            22       None        None       None        None  \n",
              "10679            23       None        None       None        None  \n",
              "10680            11       None        None       None        None  \n",
              "10681            14       None        None       None        None  \n",
              "10682            19        GOI         BOM       None        None  \n",
              "\n",
              "[10462 rows x 18 columns]"
            ],
            "text/html": [
              "\n",
              "  <div id=\"df-8dd6b1cf-e022-4fa4-b7a5-5d23c723caf4\">\n",
              "    <div class=\"colab-df-container\">\n",
              "      <div>\n",
              "<style scoped>\n",
              "    .dataframe tbody tr th:only-of-type {\n",
              "        vertical-align: middle;\n",
              "    }\n",
              "\n",
              "    .dataframe tbody tr th {\n",
              "        vertical-align: top;\n",
              "    }\n",
              "\n",
              "    .dataframe thead th {\n",
              "        text-align: right;\n",
              "    }\n",
              "</style>\n",
              "<table border=\"1\" class=\"dataframe\">\n",
              "  <thead>\n",
              "    <tr style=\"text-align: right;\">\n",
              "      <th></th>\n",
              "      <th>Airline</th>\n",
              "      <th>Source</th>\n",
              "      <th>Destination</th>\n",
              "      <th>Duration</th>\n",
              "      <th>Total_Stops</th>\n",
              "      <th>Additional_Info</th>\n",
              "      <th>Price</th>\n",
              "      <th>Day</th>\n",
              "      <th>Date</th>\n",
              "      <th>Month</th>\n",
              "      <th>Dept_Min</th>\n",
              "      <th>Dept_Hour</th>\n",
              "      <th>Arrival_Min</th>\n",
              "      <th>Arrival_Hour</th>\n",
              "      <th>First_stop</th>\n",
              "      <th>Second_stop</th>\n",
              "      <th>Third_stop</th>\n",
              "      <th>Fourth_stop</th>\n",
              "    </tr>\n",
              "  </thead>\n",
              "  <tbody>\n",
              "    <tr>\n",
              "      <th>0</th>\n",
              "      <td>1</td>\n",
              "      <td>Banglore</td>\n",
              "      <td>New Delhi</td>\n",
              "      <td>170</td>\n",
              "      <td>0</td>\n",
              "      <td>0</td>\n",
              "      <td>3897</td>\n",
              "      <td>7</td>\n",
              "      <td>24</td>\n",
              "      <td>3</td>\n",
              "      <td>20</td>\n",
              "      <td>22</td>\n",
              "      <td>10</td>\n",
              "      <td>1</td>\n",
              "      <td>None</td>\n",
              "      <td>None</td>\n",
              "      <td>None</td>\n",
              "      <td>None</td>\n",
              "    </tr>\n",
              "    <tr>\n",
              "      <th>1</th>\n",
              "      <td>2</td>\n",
              "      <td>Kolkata</td>\n",
              "      <td>Banglore</td>\n",
              "      <td>445</td>\n",
              "      <td>2</td>\n",
              "      <td>0</td>\n",
              "      <td>7662</td>\n",
              "      <td>3</td>\n",
              "      <td>1</td>\n",
              "      <td>5</td>\n",
              "      <td>50</td>\n",
              "      <td>5</td>\n",
              "      <td>15</td>\n",
              "      <td>13</td>\n",
              "      <td>IXR</td>\n",
              "      <td>BBI</td>\n",
              "      <td>None</td>\n",
              "      <td>None</td>\n",
              "    </tr>\n",
              "    <tr>\n",
              "      <th>2</th>\n",
              "      <td>3</td>\n",
              "      <td>Delhi</td>\n",
              "      <td>Cochin</td>\n",
              "      <td>19</td>\n",
              "      <td>2</td>\n",
              "      <td>0</td>\n",
              "      <td>13882</td>\n",
              "      <td>7</td>\n",
              "      <td>9</td>\n",
              "      <td>6</td>\n",
              "      <td>25</td>\n",
              "      <td>9</td>\n",
              "      <td>25</td>\n",
              "      <td>4</td>\n",
              "      <td>LKO</td>\n",
              "      <td>BOM</td>\n",
              "      <td>None</td>\n",
              "      <td>None</td>\n",
              "    </tr>\n",
              "    <tr>\n",
              "      <th>3</th>\n",
              "      <td>1</td>\n",
              "      <td>Kolkata</td>\n",
              "      <td>Banglore</td>\n",
              "      <td>325</td>\n",
              "      <td>1</td>\n",
              "      <td>0</td>\n",
              "      <td>6218</td>\n",
              "      <td>7</td>\n",
              "      <td>12</td>\n",
              "      <td>5</td>\n",
              "      <td>5</td>\n",
              "      <td>18</td>\n",
              "      <td>30</td>\n",
              "      <td>23</td>\n",
              "      <td>NAG</td>\n",
              "      <td>None</td>\n",
              "      <td>None</td>\n",
              "      <td>None</td>\n",
              "    </tr>\n",
              "    <tr>\n",
              "      <th>4</th>\n",
              "      <td>1</td>\n",
              "      <td>Banglore</td>\n",
              "      <td>New Delhi</td>\n",
              "      <td>285</td>\n",
              "      <td>1</td>\n",
              "      <td>0</td>\n",
              "      <td>13302</td>\n",
              "      <td>5</td>\n",
              "      <td>1</td>\n",
              "      <td>3</td>\n",
              "      <td>50</td>\n",
              "      <td>16</td>\n",
              "      <td>35</td>\n",
              "      <td>21</td>\n",
              "      <td>NAG</td>\n",
              "      <td>None</td>\n",
              "      <td>None</td>\n",
              "      <td>None</td>\n",
              "    </tr>\n",
              "    <tr>\n",
              "      <th>...</th>\n",
              "      <td>...</td>\n",
              "      <td>...</td>\n",
              "      <td>...</td>\n",
              "      <td>...</td>\n",
              "      <td>...</td>\n",
              "      <td>...</td>\n",
              "      <td>...</td>\n",
              "      <td>...</td>\n",
              "      <td>...</td>\n",
              "      <td>...</td>\n",
              "      <td>...</td>\n",
              "      <td>...</td>\n",
              "      <td>...</td>\n",
              "      <td>...</td>\n",
              "      <td>...</td>\n",
              "      <td>...</td>\n",
              "      <td>...</td>\n",
              "      <td>...</td>\n",
              "    </tr>\n",
              "    <tr>\n",
              "      <th>10678</th>\n",
              "      <td>8</td>\n",
              "      <td>Kolkata</td>\n",
              "      <td>Banglore</td>\n",
              "      <td>150</td>\n",
              "      <td>0</td>\n",
              "      <td>0</td>\n",
              "      <td>4107</td>\n",
              "      <td>2</td>\n",
              "      <td>9</td>\n",
              "      <td>4</td>\n",
              "      <td>55</td>\n",
              "      <td>19</td>\n",
              "      <td>25</td>\n",
              "      <td>22</td>\n",
              "      <td>None</td>\n",
              "      <td>None</td>\n",
              "      <td>None</td>\n",
              "      <td>None</td>\n",
              "    </tr>\n",
              "    <tr>\n",
              "      <th>10679</th>\n",
              "      <td>2</td>\n",
              "      <td>Kolkata</td>\n",
              "      <td>Banglore</td>\n",
              "      <td>155</td>\n",
              "      <td>0</td>\n",
              "      <td>0</td>\n",
              "      <td>4145</td>\n",
              "      <td>6</td>\n",
              "      <td>27</td>\n",
              "      <td>4</td>\n",
              "      <td>45</td>\n",
              "      <td>20</td>\n",
              "      <td>20</td>\n",
              "      <td>23</td>\n",
              "      <td>None</td>\n",
              "      <td>None</td>\n",
              "      <td>None</td>\n",
              "      <td>None</td>\n",
              "    </tr>\n",
              "    <tr>\n",
              "      <th>10680</th>\n",
              "      <td>3</td>\n",
              "      <td>Banglore</td>\n",
              "      <td>Delhi</td>\n",
              "      <td>3</td>\n",
              "      <td>0</td>\n",
              "      <td>0</td>\n",
              "      <td>7229</td>\n",
              "      <td>6</td>\n",
              "      <td>27</td>\n",
              "      <td>4</td>\n",
              "      <td>20</td>\n",
              "      <td>8</td>\n",
              "      <td>20</td>\n",
              "      <td>11</td>\n",
              "      <td>None</td>\n",
              "      <td>None</td>\n",
              "      <td>None</td>\n",
              "      <td>None</td>\n",
              "    </tr>\n",
              "    <tr>\n",
              "      <th>10681</th>\n",
              "      <td>7</td>\n",
              "      <td>Banglore</td>\n",
              "      <td>New Delhi</td>\n",
              "      <td>160</td>\n",
              "      <td>0</td>\n",
              "      <td>0</td>\n",
              "      <td>12648</td>\n",
              "      <td>5</td>\n",
              "      <td>1</td>\n",
              "      <td>3</td>\n",
              "      <td>30</td>\n",
              "      <td>11</td>\n",
              "      <td>10</td>\n",
              "      <td>14</td>\n",
              "      <td>None</td>\n",
              "      <td>None</td>\n",
              "      <td>None</td>\n",
              "      <td>None</td>\n",
              "    </tr>\n",
              "    <tr>\n",
              "      <th>10682</th>\n",
              "      <td>2</td>\n",
              "      <td>Delhi</td>\n",
              "      <td>Cochin</td>\n",
              "      <td>500</td>\n",
              "      <td>2</td>\n",
              "      <td>0</td>\n",
              "      <td>11753</td>\n",
              "      <td>4</td>\n",
              "      <td>9</td>\n",
              "      <td>5</td>\n",
              "      <td>55</td>\n",
              "      <td>10</td>\n",
              "      <td>15</td>\n",
              "      <td>19</td>\n",
              "      <td>GOI</td>\n",
              "      <td>BOM</td>\n",
              "      <td>None</td>\n",
              "      <td>None</td>\n",
              "    </tr>\n",
              "  </tbody>\n",
              "</table>\n",
              "<p>10462 rows × 18 columns</p>\n",
              "</div>\n",
              "      <button class=\"colab-df-convert\" onclick=\"convertToInteractive('df-8dd6b1cf-e022-4fa4-b7a5-5d23c723caf4')\"\n",
              "              title=\"Convert this dataframe to an interactive table.\"\n",
              "              style=\"display:none;\">\n",
              "        \n",
              "  <svg xmlns=\"http://www.w3.org/2000/svg\" height=\"24px\"viewBox=\"0 0 24 24\"\n",
              "       width=\"24px\">\n",
              "    <path d=\"M0 0h24v24H0V0z\" fill=\"none\"/>\n",
              "    <path d=\"M18.56 5.44l.94 2.06.94-2.06 2.06-.94-2.06-.94-.94-2.06-.94 2.06-2.06.94zm-11 1L8.5 8.5l.94-2.06 2.06-.94-2.06-.94L8.5 2.5l-.94 2.06-2.06.94zm10 10l.94 2.06.94-2.06 2.06-.94-2.06-.94-.94-2.06-.94 2.06-2.06.94z\"/><path d=\"M17.41 7.96l-1.37-1.37c-.4-.4-.92-.59-1.43-.59-.52 0-1.04.2-1.43.59L10.3 9.45l-7.72 7.72c-.78.78-.78 2.05 0 2.83L4 21.41c.39.39.9.59 1.41.59.51 0 1.02-.2 1.41-.59l7.78-7.78 2.81-2.81c.8-.78.8-2.07 0-2.86zM5.41 20L4 18.59l7.72-7.72 1.47 1.35L5.41 20z\"/>\n",
              "  </svg>\n",
              "      </button>\n",
              "      \n",
              "  <style>\n",
              "    .colab-df-container {\n",
              "      display:flex;\n",
              "      flex-wrap:wrap;\n",
              "      gap: 12px;\n",
              "    }\n",
              "\n",
              "    .colab-df-convert {\n",
              "      background-color: #E8F0FE;\n",
              "      border: none;\n",
              "      border-radius: 50%;\n",
              "      cursor: pointer;\n",
              "      display: none;\n",
              "      fill: #1967D2;\n",
              "      height: 32px;\n",
              "      padding: 0 0 0 0;\n",
              "      width: 32px;\n",
              "    }\n",
              "\n",
              "    .colab-df-convert:hover {\n",
              "      background-color: #E2EBFA;\n",
              "      box-shadow: 0px 1px 2px rgba(60, 64, 67, 0.3), 0px 1px 3px 1px rgba(60, 64, 67, 0.15);\n",
              "      fill: #174EA6;\n",
              "    }\n",
              "\n",
              "    [theme=dark] .colab-df-convert {\n",
              "      background-color: #3B4455;\n",
              "      fill: #D2E3FC;\n",
              "    }\n",
              "\n",
              "    [theme=dark] .colab-df-convert:hover {\n",
              "      background-color: #434B5C;\n",
              "      box-shadow: 0px 1px 3px 1px rgba(0, 0, 0, 0.15);\n",
              "      filter: drop-shadow(0px 1px 2px rgba(0, 0, 0, 0.3));\n",
              "      fill: #FFFFFF;\n",
              "    }\n",
              "  </style>\n",
              "\n",
              "      <script>\n",
              "        const buttonEl =\n",
              "          document.querySelector('#df-8dd6b1cf-e022-4fa4-b7a5-5d23c723caf4 button.colab-df-convert');\n",
              "        buttonEl.style.display =\n",
              "          google.colab.kernel.accessAllowed ? 'block' : 'none';\n",
              "\n",
              "        async function convertToInteractive(key) {\n",
              "          const element = document.querySelector('#df-8dd6b1cf-e022-4fa4-b7a5-5d23c723caf4');\n",
              "          const dataTable =\n",
              "            await google.colab.kernel.invokeFunction('convertToInteractive',\n",
              "                                                     [key], {});\n",
              "          if (!dataTable) return;\n",
              "\n",
              "          const docLinkHtml = 'Like what you see? Visit the ' +\n",
              "            '<a target=\"_blank\" href=https://colab.research.google.com/notebooks/data_table.ipynb>data table notebook</a>'\n",
              "            + ' to learn more about interactive tables.';\n",
              "          element.innerHTML = '';\n",
              "          dataTable['output_type'] = 'display_data';\n",
              "          await google.colab.output.renderOutput(dataTable, element);\n",
              "          const docLink = document.createElement('div');\n",
              "          docLink.innerHTML = docLinkHtml;\n",
              "          element.appendChild(docLink);\n",
              "        }\n",
              "      </script>\n",
              "    </div>\n",
              "  </div>\n",
              "  "
            ]
          },
          "metadata": {},
          "execution_count": 121
        }
      ]
    },
    {
      "cell_type": "markdown",
      "source": [
        "##Encoding the Categorical Columns"
      ],
      "metadata": {
        "id": "lkLxdiA-RJ8o"
      }
    },
    {
      "cell_type": "code",
      "source": [
        "print(np.unique(flight['First_stop']))\n",
        "print(np.unique(flight['Second_stop']))\n",
        "print(np.unique(flight['Third_stop']))\n",
        "print(np.unique(flight['Fourth_stop']))"
      ],
      "metadata": {
        "colab": {
          "base_uri": "https://localhost:8080/",
          "height": 0
        },
        "id": "r2ehTxrEVHeK",
        "outputId": "00f2b6d3-a36b-4454-a622-d0f01864a674"
      },
      "execution_count": 122,
      "outputs": [
        {
          "output_type": "stream",
          "name": "stdout",
          "text": [
            "[' AMD' ' ATQ' ' BBI' ' BDQ' ' BHO' ' BLR' ' BOM' ' CCU' ' COK' ' DED'\n",
            " ' DEL' ' GAU' ' GOI' ' GWL' ' HBX' ' HYD' ' IDR' ' IXA' ' IXB' ' IXC'\n",
            " ' IXR' ' IXU' ' IXZ' ' JAI' ' JDH' ' JLR' ' KNU' ' LKO' ' MAA' ' NAG'\n",
            " ' NDC' ' PAT' ' PNQ' ' RPR' ' STV' ' TRV' ' UDR' ' VGA' ' VNS' ' VTZ'\n",
            " 'None']\n",
            "[' AMD' ' BBI' ' BHO' ' BOM' ' CCU' ' COK' ' DEL' ' GAU' ' GOI' ' HBX'\n",
            " ' HYD' ' IDR' ' IMF' ' ISK' ' IXC' ' IXR' ' JAI' ' JDH' ' MAA' ' NAG'\n",
            " ' PNQ' ' TRV' ' UDR' ' VGA' ' VTZ' 'None']\n",
            "[' AMD' ' BBI' ' BHO' ' BOM' ' DEL' ' GWL' ' HYD' ' NAG' ' TRV' 'None']\n",
            "[' VGA' 'None']\n"
          ]
        }
      ]
    },
    {
      "cell_type": "code",
      "source": [
        "le = LabelEncoder()\n",
        "categorical_columns = [ 'Source' , 'Destination' , 'First_stop' , 'Second_stop' , 'Third_stop' , 'Fourth_stop']\n",
        "for col in categorical_columns:\n",
        "  flight[col] = le.fit_transform(flight[col])"
      ],
      "metadata": {
        "id": "3-gWDbnm4Oe6"
      },
      "execution_count": 123,
      "outputs": []
    },
    {
      "cell_type": "markdown",
      "source": [
        "This completes the preprocessing of the data . Now the dataset looks like this"
      ],
      "metadata": {
        "id": "sdrTj_32TruM"
      }
    },
    {
      "cell_type": "code",
      "source": [
        "flight"
      ],
      "metadata": {
        "colab": {
          "base_uri": "https://localhost:8080/",
          "height": 488
        },
        "id": "V2JS4LwZKE-F",
        "outputId": "00bb7fc1-08d3-4119-9505-c9f382a5ab23"
      },
      "execution_count": 124,
      "outputs": [
        {
          "output_type": "execute_result",
          "data": {
            "text/plain": [
              "       Airline  Source  Destination  Duration  Total_Stops  Additional_Info  \\\n",
              "0            1       0            5       170            0                0   \n",
              "1            2       3            0       445            2                0   \n",
              "2            3       2            1        19            2                0   \n",
              "3            1       3            0       325            1                0   \n",
              "4            1       0            5       285            1                0   \n",
              "...        ...     ...          ...       ...          ...              ...   \n",
              "10678        8       3            0       150            0                0   \n",
              "10679        2       3            0       155            0                0   \n",
              "10680        3       0            2         3            0                0   \n",
              "10681        7       0            5       160            0                0   \n",
              "10682        2       2            1       500            2                0   \n",
              "\n",
              "       Price  Day  Date  Month  Dept_Min  Dept_Hour  Arrival_Min  \\\n",
              "0       3897    7    24      3        20         22           10   \n",
              "1       7662    3     1      5        50          5           15   \n",
              "2      13882    7     9      6        25          9           25   \n",
              "3       6218    7    12      5         5         18           30   \n",
              "4      13302    5     1      3        50         16           35   \n",
              "...      ...  ...   ...    ...       ...        ...          ...   \n",
              "10678   4107    2     9      4        55         19           25   \n",
              "10679   4145    6    27      4        45         20           20   \n",
              "10680   7229    6    27      4        20          8           20   \n",
              "10681  12648    5     1      3        30         11           10   \n",
              "10682  11753    4     9      5        55         10           15   \n",
              "\n",
              "       Arrival_Hour  First_stop  Second_stop  Third_stop  Fourth_stop  \n",
              "0                 1          40           25           9            1  \n",
              "1                13          20            1           9            1  \n",
              "2                 4          27            3           9            1  \n",
              "3                23          29           25           9            1  \n",
              "4                21          29           25           9            1  \n",
              "...             ...         ...          ...         ...          ...  \n",
              "10678            22          40           25           9            1  \n",
              "10679            23          40           25           9            1  \n",
              "10680            11          40           25           9            1  \n",
              "10681            14          40           25           9            1  \n",
              "10682            19          12            3           9            1  \n",
              "\n",
              "[10462 rows x 18 columns]"
            ],
            "text/html": [
              "\n",
              "  <div id=\"df-5a9cb1ea-435e-4fa1-b30e-35eacf97a72d\">\n",
              "    <div class=\"colab-df-container\">\n",
              "      <div>\n",
              "<style scoped>\n",
              "    .dataframe tbody tr th:only-of-type {\n",
              "        vertical-align: middle;\n",
              "    }\n",
              "\n",
              "    .dataframe tbody tr th {\n",
              "        vertical-align: top;\n",
              "    }\n",
              "\n",
              "    .dataframe thead th {\n",
              "        text-align: right;\n",
              "    }\n",
              "</style>\n",
              "<table border=\"1\" class=\"dataframe\">\n",
              "  <thead>\n",
              "    <tr style=\"text-align: right;\">\n",
              "      <th></th>\n",
              "      <th>Airline</th>\n",
              "      <th>Source</th>\n",
              "      <th>Destination</th>\n",
              "      <th>Duration</th>\n",
              "      <th>Total_Stops</th>\n",
              "      <th>Additional_Info</th>\n",
              "      <th>Price</th>\n",
              "      <th>Day</th>\n",
              "      <th>Date</th>\n",
              "      <th>Month</th>\n",
              "      <th>Dept_Min</th>\n",
              "      <th>Dept_Hour</th>\n",
              "      <th>Arrival_Min</th>\n",
              "      <th>Arrival_Hour</th>\n",
              "      <th>First_stop</th>\n",
              "      <th>Second_stop</th>\n",
              "      <th>Third_stop</th>\n",
              "      <th>Fourth_stop</th>\n",
              "    </tr>\n",
              "  </thead>\n",
              "  <tbody>\n",
              "    <tr>\n",
              "      <th>0</th>\n",
              "      <td>1</td>\n",
              "      <td>0</td>\n",
              "      <td>5</td>\n",
              "      <td>170</td>\n",
              "      <td>0</td>\n",
              "      <td>0</td>\n",
              "      <td>3897</td>\n",
              "      <td>7</td>\n",
              "      <td>24</td>\n",
              "      <td>3</td>\n",
              "      <td>20</td>\n",
              "      <td>22</td>\n",
              "      <td>10</td>\n",
              "      <td>1</td>\n",
              "      <td>40</td>\n",
              "      <td>25</td>\n",
              "      <td>9</td>\n",
              "      <td>1</td>\n",
              "    </tr>\n",
              "    <tr>\n",
              "      <th>1</th>\n",
              "      <td>2</td>\n",
              "      <td>3</td>\n",
              "      <td>0</td>\n",
              "      <td>445</td>\n",
              "      <td>2</td>\n",
              "      <td>0</td>\n",
              "      <td>7662</td>\n",
              "      <td>3</td>\n",
              "      <td>1</td>\n",
              "      <td>5</td>\n",
              "      <td>50</td>\n",
              "      <td>5</td>\n",
              "      <td>15</td>\n",
              "      <td>13</td>\n",
              "      <td>20</td>\n",
              "      <td>1</td>\n",
              "      <td>9</td>\n",
              "      <td>1</td>\n",
              "    </tr>\n",
              "    <tr>\n",
              "      <th>2</th>\n",
              "      <td>3</td>\n",
              "      <td>2</td>\n",
              "      <td>1</td>\n",
              "      <td>19</td>\n",
              "      <td>2</td>\n",
              "      <td>0</td>\n",
              "      <td>13882</td>\n",
              "      <td>7</td>\n",
              "      <td>9</td>\n",
              "      <td>6</td>\n",
              "      <td>25</td>\n",
              "      <td>9</td>\n",
              "      <td>25</td>\n",
              "      <td>4</td>\n",
              "      <td>27</td>\n",
              "      <td>3</td>\n",
              "      <td>9</td>\n",
              "      <td>1</td>\n",
              "    </tr>\n",
              "    <tr>\n",
              "      <th>3</th>\n",
              "      <td>1</td>\n",
              "      <td>3</td>\n",
              "      <td>0</td>\n",
              "      <td>325</td>\n",
              "      <td>1</td>\n",
              "      <td>0</td>\n",
              "      <td>6218</td>\n",
              "      <td>7</td>\n",
              "      <td>12</td>\n",
              "      <td>5</td>\n",
              "      <td>5</td>\n",
              "      <td>18</td>\n",
              "      <td>30</td>\n",
              "      <td>23</td>\n",
              "      <td>29</td>\n",
              "      <td>25</td>\n",
              "      <td>9</td>\n",
              "      <td>1</td>\n",
              "    </tr>\n",
              "    <tr>\n",
              "      <th>4</th>\n",
              "      <td>1</td>\n",
              "      <td>0</td>\n",
              "      <td>5</td>\n",
              "      <td>285</td>\n",
              "      <td>1</td>\n",
              "      <td>0</td>\n",
              "      <td>13302</td>\n",
              "      <td>5</td>\n",
              "      <td>1</td>\n",
              "      <td>3</td>\n",
              "      <td>50</td>\n",
              "      <td>16</td>\n",
              "      <td>35</td>\n",
              "      <td>21</td>\n",
              "      <td>29</td>\n",
              "      <td>25</td>\n",
              "      <td>9</td>\n",
              "      <td>1</td>\n",
              "    </tr>\n",
              "    <tr>\n",
              "      <th>...</th>\n",
              "      <td>...</td>\n",
              "      <td>...</td>\n",
              "      <td>...</td>\n",
              "      <td>...</td>\n",
              "      <td>...</td>\n",
              "      <td>...</td>\n",
              "      <td>...</td>\n",
              "      <td>...</td>\n",
              "      <td>...</td>\n",
              "      <td>...</td>\n",
              "      <td>...</td>\n",
              "      <td>...</td>\n",
              "      <td>...</td>\n",
              "      <td>...</td>\n",
              "      <td>...</td>\n",
              "      <td>...</td>\n",
              "      <td>...</td>\n",
              "      <td>...</td>\n",
              "    </tr>\n",
              "    <tr>\n",
              "      <th>10678</th>\n",
              "      <td>8</td>\n",
              "      <td>3</td>\n",
              "      <td>0</td>\n",
              "      <td>150</td>\n",
              "      <td>0</td>\n",
              "      <td>0</td>\n",
              "      <td>4107</td>\n",
              "      <td>2</td>\n",
              "      <td>9</td>\n",
              "      <td>4</td>\n",
              "      <td>55</td>\n",
              "      <td>19</td>\n",
              "      <td>25</td>\n",
              "      <td>22</td>\n",
              "      <td>40</td>\n",
              "      <td>25</td>\n",
              "      <td>9</td>\n",
              "      <td>1</td>\n",
              "    </tr>\n",
              "    <tr>\n",
              "      <th>10679</th>\n",
              "      <td>2</td>\n",
              "      <td>3</td>\n",
              "      <td>0</td>\n",
              "      <td>155</td>\n",
              "      <td>0</td>\n",
              "      <td>0</td>\n",
              "      <td>4145</td>\n",
              "      <td>6</td>\n",
              "      <td>27</td>\n",
              "      <td>4</td>\n",
              "      <td>45</td>\n",
              "      <td>20</td>\n",
              "      <td>20</td>\n",
              "      <td>23</td>\n",
              "      <td>40</td>\n",
              "      <td>25</td>\n",
              "      <td>9</td>\n",
              "      <td>1</td>\n",
              "    </tr>\n",
              "    <tr>\n",
              "      <th>10680</th>\n",
              "      <td>3</td>\n",
              "      <td>0</td>\n",
              "      <td>2</td>\n",
              "      <td>3</td>\n",
              "      <td>0</td>\n",
              "      <td>0</td>\n",
              "      <td>7229</td>\n",
              "      <td>6</td>\n",
              "      <td>27</td>\n",
              "      <td>4</td>\n",
              "      <td>20</td>\n",
              "      <td>8</td>\n",
              "      <td>20</td>\n",
              "      <td>11</td>\n",
              "      <td>40</td>\n",
              "      <td>25</td>\n",
              "      <td>9</td>\n",
              "      <td>1</td>\n",
              "    </tr>\n",
              "    <tr>\n",
              "      <th>10681</th>\n",
              "      <td>7</td>\n",
              "      <td>0</td>\n",
              "      <td>5</td>\n",
              "      <td>160</td>\n",
              "      <td>0</td>\n",
              "      <td>0</td>\n",
              "      <td>12648</td>\n",
              "      <td>5</td>\n",
              "      <td>1</td>\n",
              "      <td>3</td>\n",
              "      <td>30</td>\n",
              "      <td>11</td>\n",
              "      <td>10</td>\n",
              "      <td>14</td>\n",
              "      <td>40</td>\n",
              "      <td>25</td>\n",
              "      <td>9</td>\n",
              "      <td>1</td>\n",
              "    </tr>\n",
              "    <tr>\n",
              "      <th>10682</th>\n",
              "      <td>2</td>\n",
              "      <td>2</td>\n",
              "      <td>1</td>\n",
              "      <td>500</td>\n",
              "      <td>2</td>\n",
              "      <td>0</td>\n",
              "      <td>11753</td>\n",
              "      <td>4</td>\n",
              "      <td>9</td>\n",
              "      <td>5</td>\n",
              "      <td>55</td>\n",
              "      <td>10</td>\n",
              "      <td>15</td>\n",
              "      <td>19</td>\n",
              "      <td>12</td>\n",
              "      <td>3</td>\n",
              "      <td>9</td>\n",
              "      <td>1</td>\n",
              "    </tr>\n",
              "  </tbody>\n",
              "</table>\n",
              "<p>10462 rows × 18 columns</p>\n",
              "</div>\n",
              "      <button class=\"colab-df-convert\" onclick=\"convertToInteractive('df-5a9cb1ea-435e-4fa1-b30e-35eacf97a72d')\"\n",
              "              title=\"Convert this dataframe to an interactive table.\"\n",
              "              style=\"display:none;\">\n",
              "        \n",
              "  <svg xmlns=\"http://www.w3.org/2000/svg\" height=\"24px\"viewBox=\"0 0 24 24\"\n",
              "       width=\"24px\">\n",
              "    <path d=\"M0 0h24v24H0V0z\" fill=\"none\"/>\n",
              "    <path d=\"M18.56 5.44l.94 2.06.94-2.06 2.06-.94-2.06-.94-.94-2.06-.94 2.06-2.06.94zm-11 1L8.5 8.5l.94-2.06 2.06-.94-2.06-.94L8.5 2.5l-.94 2.06-2.06.94zm10 10l.94 2.06.94-2.06 2.06-.94-2.06-.94-.94-2.06-.94 2.06-2.06.94z\"/><path d=\"M17.41 7.96l-1.37-1.37c-.4-.4-.92-.59-1.43-.59-.52 0-1.04.2-1.43.59L10.3 9.45l-7.72 7.72c-.78.78-.78 2.05 0 2.83L4 21.41c.39.39.9.59 1.41.59.51 0 1.02-.2 1.41-.59l7.78-7.78 2.81-2.81c.8-.78.8-2.07 0-2.86zM5.41 20L4 18.59l7.72-7.72 1.47 1.35L5.41 20z\"/>\n",
              "  </svg>\n",
              "      </button>\n",
              "      \n",
              "  <style>\n",
              "    .colab-df-container {\n",
              "      display:flex;\n",
              "      flex-wrap:wrap;\n",
              "      gap: 12px;\n",
              "    }\n",
              "\n",
              "    .colab-df-convert {\n",
              "      background-color: #E8F0FE;\n",
              "      border: none;\n",
              "      border-radius: 50%;\n",
              "      cursor: pointer;\n",
              "      display: none;\n",
              "      fill: #1967D2;\n",
              "      height: 32px;\n",
              "      padding: 0 0 0 0;\n",
              "      width: 32px;\n",
              "    }\n",
              "\n",
              "    .colab-df-convert:hover {\n",
              "      background-color: #E2EBFA;\n",
              "      box-shadow: 0px 1px 2px rgba(60, 64, 67, 0.3), 0px 1px 3px 1px rgba(60, 64, 67, 0.15);\n",
              "      fill: #174EA6;\n",
              "    }\n",
              "\n",
              "    [theme=dark] .colab-df-convert {\n",
              "      background-color: #3B4455;\n",
              "      fill: #D2E3FC;\n",
              "    }\n",
              "\n",
              "    [theme=dark] .colab-df-convert:hover {\n",
              "      background-color: #434B5C;\n",
              "      box-shadow: 0px 1px 3px 1px rgba(0, 0, 0, 0.15);\n",
              "      filter: drop-shadow(0px 1px 2px rgba(0, 0, 0, 0.3));\n",
              "      fill: #FFFFFF;\n",
              "    }\n",
              "  </style>\n",
              "\n",
              "      <script>\n",
              "        const buttonEl =\n",
              "          document.querySelector('#df-5a9cb1ea-435e-4fa1-b30e-35eacf97a72d button.colab-df-convert');\n",
              "        buttonEl.style.display =\n",
              "          google.colab.kernel.accessAllowed ? 'block' : 'none';\n",
              "\n",
              "        async function convertToInteractive(key) {\n",
              "          const element = document.querySelector('#df-5a9cb1ea-435e-4fa1-b30e-35eacf97a72d');\n",
              "          const dataTable =\n",
              "            await google.colab.kernel.invokeFunction('convertToInteractive',\n",
              "                                                     [key], {});\n",
              "          if (!dataTable) return;\n",
              "\n",
              "          const docLinkHtml = 'Like what you see? Visit the ' +\n",
              "            '<a target=\"_blank\" href=https://colab.research.google.com/notebooks/data_table.ipynb>data table notebook</a>'\n",
              "            + ' to learn more about interactive tables.';\n",
              "          element.innerHTML = '';\n",
              "          dataTable['output_type'] = 'display_data';\n",
              "          await google.colab.output.renderOutput(dataTable, element);\n",
              "          const docLink = document.createElement('div');\n",
              "          docLink.innerHTML = docLinkHtml;\n",
              "          element.appendChild(docLink);\n",
              "        }\n",
              "      </script>\n",
              "    </div>\n",
              "  </div>\n",
              "  "
            ]
          },
          "metadata": {},
          "execution_count": 124
        }
      ]
    },
    {
      "cell_type": "code",
      "source": [
        "X = flight.drop(columns = 'Price')\n",
        "y = flight.Price\n",
        "x_train , x_test , y_train , y_test = tts(X, y, test_size = 0.2 , shuffle = True , random_state = 1)"
      ],
      "metadata": {
        "id": "zCRcVvTeVZuN"
      },
      "execution_count": 125,
      "outputs": []
    },
    {
      "cell_type": "markdown",
      "source": [
        "#Implementing Different Models"
      ],
      "metadata": {
        "id": "stGhIvosQX94"
      }
    },
    {
      "cell_type": "code",
      "source": [
        "from sklearn.ensemble import RandomForestRegressor\n",
        "from sklearn.linear_model import LinearRegression\n",
        "from sklearn.tree import DecisionTreeRegressor\n",
        "from sklearn import svm\n",
        "from sklearn.neighbors import KNeighborsRegressor\n",
        "import xgboost as xgb\n",
        "import lightgbm as lgb\n",
        "from sklearn import linear_model\n",
        "from sklearn.ensemble import ExtraTreesRegressor\n",
        "\n",
        "model = []\n",
        "model.append(RandomForestRegressor())\n",
        "model.append(svm.SVR(kernel = 'rbf'))\n",
        "model.append(ExtraTreesRegressor())\n",
        "model.append(LinearRegression())\n",
        "model.append(DecisionTreeRegressor())\n",
        "model.append(xgb.XGBRegressor(objective='reg:squarederror'))\n",
        "model.append(lgb.LGBMRegressor())\n",
        "model.append(KNeighborsRegressor())"
      ],
      "metadata": {
        "id": "K3eT-RbrFlT8"
      },
      "execution_count": 194,
      "outputs": []
    },
    {
      "cell_type": "code",
      "source": [
        "!pip install tabulate\n",
        "from tabulate import tabulate\n",
        "from sklearn.model_selection import cross_val_score as cv"
      ],
      "metadata": {
        "colab": {
          "base_uri": "https://localhost:8080/"
        },
        "id": "30ZtFnkTMUhR",
        "outputId": "9d0b733c-68ba-4174-ada4-02d75f32ff11"
      },
      "execution_count": 195,
      "outputs": [
        {
          "output_type": "stream",
          "name": "stdout",
          "text": [
            "Requirement already satisfied: tabulate in /usr/local/lib/python3.7/dist-packages (0.8.9)\n"
          ]
        }
      ]
    },
    {
      "cell_type": "code",
      "source": [
        "table = [[\"Model\" , \"Training R2 score\" , \"Testing R2 score\" , \"Cross Val 1\", \"Cross Val 2\", \"Cross Val 3\", \"Cross Val 4\", \"Cross Val 5\"]]\n",
        "k = 0\n",
        "for reg in model:\n",
        "  cross_val = cv(reg , x_train , y_train , scoring = 'r2')\n",
        "  reg.fit(x_train , y_train)\n",
        "  ind_reg = [reg , r2(y_train , reg.predict(x_train)) ,  r2(y_test , reg.predict(x_test)) ]\n",
        "  for i in cross_val:\n",
        "    ind_reg.append(i)\n",
        "  table.append(ind_reg)"
      ],
      "metadata": {
        "id": "bEBaR9tkNtnd"
      },
      "execution_count": 196,
      "outputs": []
    },
    {
      "cell_type": "code",
      "source": [
        "print(tabulate(table ,headers = 'firstrow' ,  tablefmt='fancy_grid'))"
      ],
      "metadata": {
        "id": "XJPugMImOsbV",
        "colab": {
          "base_uri": "https://localhost:8080/"
        },
        "outputId": "d4dc5043-83ed-40fc-938e-9b46d57d31ed"
      },
      "execution_count": 197,
      "outputs": [
        {
          "output_type": "stream",
          "name": "stdout",
          "text": [
            "╒════════════════════════════════════════════╤═════════════════════╤════════════════════╤═══════════════╤═══════════════╤═══════════════╤═══════════════╤═══════════════╕\n",
            "│ Model                                      │   Training R2 score │   Testing R2 score │   Cross Val 1 │   Cross Val 2 │   Cross Val 3 │   Cross Val 4 │   Cross Val 5 │\n",
            "╞════════════════════════════════════════════╪═════════════════════╪════════════════════╪═══════════════╪═══════════════╪═══════════════╪═══════════════╪═══════════════╡\n",
            "│ RandomForestRegressor()                    │            0.980611 │           0.918029 │      0.899365 │      0.913598 │      0.854268 │     0.908443  │     0.816592  │\n",
            "├────────────────────────────────────────────┼─────────────────────┼────────────────────┼───────────────┼───────────────┼───────────────┼───────────────┼───────────────┤\n",
            "│ SVR()                                      │            0.108888 │           0.111677 │      0.11098  │      0.100218 │      0.100832 │     0.0700461 │     0.0728129 │\n",
            "├────────────────────────────────────────────┼─────────────────────┼────────────────────┼───────────────┼───────────────┼───────────────┼───────────────┼───────────────┤\n",
            "│ ExtraTreesRegressor()                      │            0.996359 │           0.905843 │      0.903043 │      0.917657 │      0.85484  │     0.910096  │     0.845858  │\n",
            "├────────────────────────────────────────────┼─────────────────────┼────────────────────┼───────────────┼───────────────┼───────────────┼───────────────┼───────────────┤\n",
            "│ LinearRegression()                         │            0.480369 │           0.499091 │      0.520478 │      0.51797  │      0.509387 │     0.439418  │     0.419808  │\n",
            "├────────────────────────────────────────────┼─────────────────────┼────────────────────┼───────────────┼───────────────┼───────────────┼───────────────┼───────────────┤\n",
            "│ DecisionTreeRegressor()                    │            0.996359 │           0.799591 │      0.836954 │      0.821985 │      0.697889 │     0.816038  │     0.796662  │\n",
            "├────────────────────────────────────────────┼─────────────────────┼────────────────────┼───────────────┼───────────────┼───────────────┼───────────────┼───────────────┤\n",
            "│ XGBRegressor(objective='reg:squarederror') │            0.829335 │           0.83983  │      0.82945  │      0.845885 │      0.757704 │     0.812616  │     0.7501    │\n",
            "├────────────────────────────────────────────┼─────────────────────┼────────────────────┼───────────────┼───────────────┼───────────────┼───────────────┼───────────────┤\n",
            "│ LGBMRegressor()                            │            0.92136  │           0.89387  │      0.88185  │      0.917925 │      0.869791 │     0.847965  │     0.786755  │\n",
            "├────────────────────────────────────────────┼─────────────────────┼────────────────────┼───────────────┼───────────────┼───────────────┼───────────────┼───────────────┤\n",
            "│ KNeighborsRegressor()                      │            0.718126 │           0.584387 │      0.585221 │      0.580782 │      0.549263 │     0.518293  │     0.503286  │\n",
            "╘════════════════════════════════════════════╧═════════════════════╧════════════════════╧═══════════════╧═══════════════╧═══════════════╧═══════════════╧═══════════════╛\n"
          ]
        }
      ]
    },
    {
      "cell_type": "markdown",
      "source": [
        "#Tuning the best model : RandomForestRegressor"
      ],
      "metadata": {
        "id": "Zi3Y1jFEur8f"
      }
    },
    {
      "cell_type": "code",
      "source": [
        "from sklearn.model_selection import RandomizedSearchCV\n",
        "from datetime import time\n",
        "from sklearn.metrics import mean_absolute_error as mae\n",
        "from sklearn.metrics import mean_squared_error as mse"
      ],
      "metadata": {
        "id": "xrsksHy0cFwX"
      },
      "execution_count": 130,
      "outputs": []
    },
    {
      "cell_type": "code",
      "source": [
        "param_dist = {\n",
        "'n_estimators': list(range(100, 1000, 10)),\n",
        "'min_samples_leaf': list(range(1, 25)),\n",
        "'max_depth': list(range(2, 20)),\n",
        "'max_features': ['auto', 'sqrt'],\n",
        "'bootstrap': [True, False]}"
      ],
      "metadata": {
        "id": "M7Xizk8GaHZI"
      },
      "execution_count": 131,
      "outputs": []
    },
    {
      "cell_type": "code",
      "source": [
        "rfc = RandomForestRegressor()\n",
        "n_iter = 50\n",
        "model_random_search = RandomizedSearchCV(\n",
        "estimator=rfc,\n",
        "param_distributions=param_dist,\n",
        "n_iter=n_iter)"
      ],
      "metadata": {
        "id": "9hRC1uNWb1RX"
      },
      "execution_count": 132,
      "outputs": []
    },
    {
      "cell_type": "code",
      "source": [
        "model_random_search.fit(x_train, y_train)"
      ],
      "metadata": {
        "id": "CRurkxU1cQm6",
        "colab": {
          "base_uri": "https://localhost:8080/",
          "height": 0
        },
        "outputId": "d499e08a-b05a-4435-efad-f77659253bfa"
      },
      "execution_count": 133,
      "outputs": [
        {
          "output_type": "execute_result",
          "data": {
            "text/plain": [
              "RandomizedSearchCV(estimator=RandomForestRegressor(), n_iter=50,\n",
              "                   param_distributions={'bootstrap': [True, False],\n",
              "                                        'max_depth': [2, 3, 4, 5, 6, 7, 8, 9,\n",
              "                                                      10, 11, 12, 13, 14, 15,\n",
              "                                                      16, 17, 18, 19],\n",
              "                                        'max_features': ['auto', 'sqrt'],\n",
              "                                        'min_samples_leaf': [1, 2, 3, 4, 5, 6,\n",
              "                                                             7, 8, 9, 10, 11,\n",
              "                                                             12, 13, 14, 15, 16,\n",
              "                                                             17, 18, 19, 20, 21,\n",
              "                                                             22, 23, 24],\n",
              "                                        'n_estimators': [100, 110, 120, 130,\n",
              "                                                         140, 150, 160, 170,\n",
              "                                                         180, 190, 200, 210,\n",
              "                                                         220, 230, 240, 250,\n",
              "                                                         260, 270, 280, 290,\n",
              "                                                         300, 310, 320, 330,\n",
              "                                                         340, 350, 360, 370,\n",
              "                                                         380, 390, ...]})"
            ]
          },
          "metadata": {},
          "execution_count": 133
        }
      ]
    },
    {
      "cell_type": "code",
      "source": [
        "model_random_search.best_params_"
      ],
      "metadata": {
        "id": "YxwsyH1UcZx8",
        "colab": {
          "base_uri": "https://localhost:8080/",
          "height": 0
        },
        "outputId": "0f346628-45fa-4275-cfc8-5cc92ebbea88"
      },
      "execution_count": 134,
      "outputs": [
        {
          "output_type": "execute_result",
          "data": {
            "text/plain": [
              "{'bootstrap': False,\n",
              " 'max_depth': 13,\n",
              " 'max_features': 'sqrt',\n",
              " 'min_samples_leaf': 1,\n",
              " 'n_estimators': 850}"
            ]
          },
          "metadata": {},
          "execution_count": 134
        }
      ]
    },
    {
      "cell_type": "code",
      "source": [
        "rfc = model_random_search.best_estimator_\n",
        "rfc.fit(x_train , y_train)\n",
        "table = [['Data' , 'R2 score' , 'MSE' , 'MAE']]\n",
        "table.append([\"Training\" , r2(y_train , rfc.predict(x_train)) , mse(y_train , rfc.predict(x_train)) , mae(y_train , rfc.predict(x_train))])\n",
        "table.append([\"Testing\" , r2(y_test , rfc.predict(x_test)) , mse(y_test , rfc.predict(x_test)) , mae(y_test , rfc.predict(x_test))])\n",
        "print(tabulate(table ,headers = 'firstrow' ,  tablefmt='fancy_grid'))"
      ],
      "metadata": {
        "id": "HxO4AW64lug6",
        "colab": {
          "base_uri": "https://localhost:8080/",
          "height": 0
        },
        "outputId": "d258244f-a72a-4541-f032-f17ba82347d0"
      },
      "execution_count": 135,
      "outputs": [
        {
          "output_type": "stream",
          "name": "stdout",
          "text": [
            "╒══════════╤════════════╤══════════════════╤═════════╕\n",
            "│ Data     │   R2 score │              MSE │     MAE │\n",
            "╞══════════╪════════════╪══════════════════╪═════════╡\n",
            "│ Training │   0.959315 │ 877717           │ 597.733 │\n",
            "├──────────┼────────────┼──────────────────┼─────────┤\n",
            "│ Testing  │   0.89459  │      2.17555e+06 │ 896.325 │\n",
            "╘══════════╧════════════╧══════════════════╧═════════╛\n"
          ]
        }
      ]
    },
    {
      "cell_type": "markdown",
      "source": [
        "#Implementing the Pipeline"
      ],
      "metadata": {
        "id": "j3i7OabMNNne"
      }
    },
    {
      "cell_type": "code",
      "source": [
        "from sklearn.base import BaseEstimator"
      ],
      "metadata": {
        "id": "q4iQa__Bzu_y"
      },
      "execution_count": 177,
      "outputs": []
    },
    {
      "cell_type": "code",
      "source": [
        "from sklearn.base import TransformerMixin\n",
        "class preprocess(BaseEstimator , TransformerMixin):\n",
        "  def __init__(self):\n",
        "    print(\"init() function called\")\n",
        "\n",
        "  def fit(self , X , y = None):\n",
        "    print(\"fit() function called\")\n",
        "    return self\n",
        "  def transform(self , X , y = None):\n",
        "    from datetime import date\n",
        "    print(\"transform() function called\")\n",
        "    X['Airline'] = X['Airline'].replace(['IndiGo' , 'Air India' , 'Jet Airways' , 'SpiceJet' , 'Multiple carriers' , 'GoAir' , 'Vistara' , 'Air Asia' , 'Vistara Premium economy' , 'Jet Airways Business' , 'Multiple carriers Premium economy' , 'Trujet'] , [1,2,3,4 ,5,6,7,8,6,6,6,6])\n",
        "    X['Airline'] = X['Airline'].astype(int)\n",
        "    X['Total_Stops'] = X['Total_Stops'].replace(['non-stop' , '1 stop' , '2 stops' , '3 stops' , '4 stops'] , [0,1,2,3,3])\n",
        "    X['Total_Stops'] = X['Total_Stops'].astype(int)\n",
        "    X['Additional_Info'] = X['Additional_Info'].replace(['No info', 'No Info' , 'In-flight meal not included' , 'No check-in baggage included' , '1 Short layover' , '1 Long layover' ,'Change airports' , 'Business class' ,  'Red-eye flight','2 Long layover'  ] , [0,0,1,2,3,3,3,3,3,3])\n",
        "    X['Additional_Info'] = X['Additional_Info'].astype(int)\n",
        "\n",
        "    day = []\n",
        "    for DATE in X['Date_of_Journey']:\n",
        "      a = DATE.split(\"/\")\n",
        "      d  =int(a[0])\n",
        "      m = int(a[1])\n",
        "      y = int(a[2])\n",
        "      day.append(date(y , m , d).weekday() + 1)\n",
        "    X['Day'] = day\n",
        "\n",
        "    Date = []\n",
        "    month = []\n",
        "    year = []\n",
        "    for date in X['Date_of_Journey']:\n",
        "      info = date.split(\"/\")\n",
        "      if(info[0][0] == '0'):\n",
        "        Date.append(int(info[0][1]))\n",
        "      else:\n",
        "        Date.append(int(info[0]))\n",
        "      month.append(int(info[1][1]))\n",
        "      year.append(int(info[2]))\n",
        "    X['Date'] = Date\n",
        "    X['Month'] = month\n",
        "    X = X.drop(columns = 'Date_of_Journey')\n",
        "\n",
        "    dept_min = []\n",
        "    dept_hour = []\n",
        "    for time in X['Dep_Time']:\n",
        "      time = time.split(\" \")[0]\n",
        "      time = time.split(\":\")\n",
        "      dept_min.append(int(time[1]))\n",
        "      dept_hour.append(int(time[0]))\n",
        "    X['Dept_Min'] = dept_min\n",
        "    X['Dept_Hour'] = dept_hour\n",
        "    X = X.drop(columns = \"Dep_Time\")\n",
        "\n",
        "    arr_min = []\n",
        "    arr_hour = []\n",
        "    for time in X['Arrival_Time']:\n",
        "      time = time.split(\" \")[0]\n",
        "      time = time.split(\":\")\n",
        "      arr_min.append(int(time[1]))\n",
        "      arr_hour.append(int(time[0]))\n",
        "    X['Arrival_Min'] = arr_min\n",
        "    X['Arrival_Hour'] = arr_hour\n",
        "    X = X.drop(columns = \"Arrival_Time\")\n",
        "\n",
        "    duration = []\n",
        "    for dur in X['Duration']:\n",
        "      dur = dur.split(\" \")\n",
        "      if dur[0][1] == 'm':\n",
        "        time = int(dur[0][0])\n",
        "      else:\n",
        "        hour = int(dur[0].split(\"h\")[0])\n",
        "        if len(dur) != 1 :\n",
        "          min = int(dur[1].split(\"m\")[0])\n",
        "          time = hour*60 + min\n",
        "        else:\n",
        "          time = hour  \n",
        "      duration.append(int(time))\n",
        "    X['Duration'] = duration\n",
        "\n",
        "    city1 = []\n",
        "    city2 = []\n",
        "    city3 = []\n",
        "    city4 = []\n",
        "    for i in X['Route']:\n",
        "      arr = i.split(\" →\")\n",
        "      b = arr[1:-1]\n",
        "      if(len(b) == 0):\n",
        "        city1.append(\"None\")\n",
        "        city2.append(\"None\")\n",
        "        city3.append(\"None\")\n",
        "        city4.append(\"None\")\n",
        "      elif(len(b) == 1):\n",
        "        city1.append(b[0])\n",
        "        city2.append(\"None\")\n",
        "        city3.append(\"None\")\n",
        "        city4.append(\"None\")\n",
        "      elif(len(b) == 2):\n",
        "        city1.append(b[0])\n",
        "        city2.append(b[1])\n",
        "        city3.append(\"None\")\n",
        "        city4.append(\"None\")\n",
        "      elif(len(b) == 3):\n",
        "        city1.append(b[0])\n",
        "        city2.append(b[1])\n",
        "        city3.append(b[2])\n",
        "        city4.append(\"None\")\n",
        "      elif(len(b) == 4):\n",
        "        city1.append(b[0])\n",
        "        city2.append(b[1])\n",
        "        city3.append(b[2])\n",
        "        city4.append(b[3])\n",
        "    X['First_stop'] = city1\n",
        "    X['Second_stop'] = city2\n",
        "    X['Third_stop'] = city3\n",
        "    X['Fourth_stop'] = city4\n",
        "    X = X.drop(columns = \"Route\")\n",
        "\n",
        "\n",
        "    le = LabelEncoder()\n",
        "    categorical_columns = [ 'Source' , 'Destination' , 'First_stop' , 'Second_stop' , 'Third_stop' , 'Fourth_stop']\n",
        "    for col in categorical_columns:\n",
        "      X[col] = X[col].replace(np.unique(X[col]) , list(range(1,len(np.unique(X[col])) + 1)))\n",
        "    return X\n"
      ],
      "metadata": {
        "id": "pM60Yolet_SX"
      },
      "execution_count": 183,
      "outputs": []
    },
    {
      "cell_type": "code",
      "source": [
        "from sklearn.pipeline import Pipeline\n",
        "pipe = Pipeline(steps = [\n",
        "                         (\"preprocess\" , preprocess()),\n",
        "                         (\"regressor\" , rfc)\n",
        "])"
      ],
      "metadata": {
        "id": "v8fN8cqlyPPG",
        "colab": {
          "base_uri": "https://localhost:8080/"
        },
        "outputId": "fa818671-dc44-4cbf-fed0-7e213e1f6808"
      },
      "execution_count": 184,
      "outputs": [
        {
          "output_type": "stream",
          "name": "stdout",
          "text": [
            "init() function called\n"
          ]
        }
      ]
    },
    {
      "cell_type": "code",
      "source": [
        "new_data = pd.read_csv(\"/content/data.csv\")\n",
        "new_data = new_data.dropna()\n",
        "x_train_new , x_test_new , y_train_new , y_test_new = tts(new_data.drop(columns = 'Price') , new_data.Price , test_size = 0.2 , shuffle = True , random_state = 1)\n",
        "pipe.fit(x_train_new , y_train_new)"
      ],
      "metadata": {
        "colab": {
          "base_uri": "https://localhost:8080/"
        },
        "id": "nnkB1qaL9hMc",
        "outputId": "1aa3a71a-349a-4bf2-fecd-a6f8e138e3d2"
      },
      "execution_count": 185,
      "outputs": [
        {
          "output_type": "stream",
          "name": "stdout",
          "text": [
            "fit() function called\n",
            "transform() function called\n"
          ]
        },
        {
          "output_type": "execute_result",
          "data": {
            "text/plain": [
              "Pipeline(steps=[('preprocess', preprocess()),\n",
              "                ('regressor',\n",
              "                 RandomForestRegressor(bootstrap=False, max_depth=13,\n",
              "                                       max_features='sqrt',\n",
              "                                       n_estimators=850))])"
            ]
          },
          "metadata": {},
          "execution_count": 185
        }
      ]
    },
    {
      "cell_type": "code",
      "source": [
        "y_pred_new = pipe.predict(x_test_new)\n",
        "print(\"Predicted values from pipeline :\")\n",
        "print(y_pred_new)"
      ],
      "metadata": {
        "colab": {
          "base_uri": "https://localhost:8080/"
        },
        "id": "pVTgJHgi-apk",
        "outputId": "9bc7a4c0-3ebe-49d2-ec02-9bef947ba531"
      },
      "execution_count": 189,
      "outputs": [
        {
          "output_type": "stream",
          "name": "stdout",
          "text": [
            "transform() function called\n",
            "Predicted values from pipeline :\n",
            "[ 7346.283215   12582.50869573 12703.85112091 ... 13241.38977359\n",
            " 10430.07382637  7384.36612993]\n"
          ]
        }
      ]
    }
  ]
}